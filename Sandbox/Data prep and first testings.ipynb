{
 "cells": [
  {
   "cell_type": "markdown",
   "metadata": {},
   "source": [
    "## Vilnius real estate Market analysis\n",
    "\n",
    "* Purpose: analyse Vilnius real estate pricing changes during Covid-19 and post-Covid period (est. 2020.05-2020.08)\n",
    "* Hypothesis: the fluctuations in real estate rent prices should affect the real estate prices.\n",
    "* Scope: data from one of the Lithuanian real estate market portals used.\n",
    "* Data loaded every 2-3 days to monitor market changes.\n",
    "* Weekly averages calculated and compared to avoid big outlayers."
   ]
  },
  {
   "cell_type": "code",
   "execution_count": 1,
   "metadata": {},
   "outputs": [],
   "source": [
    "import pandas as pd\n",
    "import numpy as np\n",
    "import matplotlib.pyplot as plt\n",
    "import seaborn as sns"
   ]
  },
  {
   "cell_type": "code",
   "execution_count": 2,
   "metadata": {},
   "outputs": [
    {
     "ename": "FileNotFoundError",
     "evalue": "[Errno 2] No such file or directory: 'C:\\\\Users\\\\tiesi\\\\Class D\\\\Aruodas Analytical work part 1\\\\Data.xlsx'",
     "output_type": "error",
     "traceback": [
      "\u001b[1;31m---------------------------------------------------------------------------\u001b[0m",
      "\u001b[1;31mFileNotFoundError\u001b[0m                         Traceback (most recent call last)",
      "\u001b[1;32m<ipython-input-2-2d6bb39d7d06>\u001b[0m in \u001b[0;36m<module>\u001b[1;34m\u001b[0m\n\u001b[0;32m      1\u001b[0m \u001b[1;31m#load the raw data\u001b[0m\u001b[1;33m\u001b[0m\u001b[1;33m\u001b[0m\u001b[1;33m\u001b[0m\u001b[0m\n\u001b[1;32m----> 2\u001b[1;33m \u001b[0mdf\u001b[0m \u001b[1;33m=\u001b[0m \u001b[0mpd\u001b[0m\u001b[1;33m.\u001b[0m\u001b[0mread_excel\u001b[0m\u001b[1;33m(\u001b[0m\u001b[1;34mr'C:\\Users\\tiesi\\Class D\\Aruodas Analytical work part 1\\Data.xlsx'\u001b[0m\u001b[1;33m,\u001b[0m \u001b[0mindex_col\u001b[0m\u001b[1;33m=\u001b[0m\u001b[1;36m0\u001b[0m\u001b[1;33m)\u001b[0m\u001b[1;33m\u001b[0m\u001b[1;33m\u001b[0m\u001b[0m\n\u001b[0m\u001b[0;32m      3\u001b[0m \u001b[1;33m\u001b[0m\u001b[0m\n\u001b[0;32m      4\u001b[0m \u001b[1;31m#update column types:\u001b[0m\u001b[1;33m\u001b[0m\u001b[1;33m\u001b[0m\u001b[1;33m\u001b[0m\u001b[0m\n\u001b[0;32m      5\u001b[0m \u001b[0mdf\u001b[0m\u001b[1;33m[\u001b[0m\u001b[1;34m'log_date'\u001b[0m\u001b[1;33m]\u001b[0m \u001b[1;33m=\u001b[0m \u001b[0mpd\u001b[0m\u001b[1;33m.\u001b[0m\u001b[0mto_datetime\u001b[0m\u001b[1;33m(\u001b[0m\u001b[0mdf\u001b[0m\u001b[1;33m[\u001b[0m\u001b[1;34m'log_date'\u001b[0m\u001b[1;33m]\u001b[0m\u001b[1;33m)\u001b[0m\u001b[1;33m\u001b[0m\u001b[1;33m\u001b[0m\u001b[0m\n",
      "\u001b[1;32m~\\Anaconda3\\lib\\site-packages\\pandas\\util\\_decorators.py\u001b[0m in \u001b[0;36mwrapper\u001b[1;34m(*args, **kwargs)\u001b[0m\n\u001b[0;32m    186\u001b[0m                 \u001b[1;32melse\u001b[0m\u001b[1;33m:\u001b[0m\u001b[1;33m\u001b[0m\u001b[1;33m\u001b[0m\u001b[0m\n\u001b[0;32m    187\u001b[0m                     \u001b[0mkwargs\u001b[0m\u001b[1;33m[\u001b[0m\u001b[0mnew_arg_name\u001b[0m\u001b[1;33m]\u001b[0m \u001b[1;33m=\u001b[0m \u001b[0mnew_arg_value\u001b[0m\u001b[1;33m\u001b[0m\u001b[1;33m\u001b[0m\u001b[0m\n\u001b[1;32m--> 188\u001b[1;33m             \u001b[1;32mreturn\u001b[0m \u001b[0mfunc\u001b[0m\u001b[1;33m(\u001b[0m\u001b[1;33m*\u001b[0m\u001b[0margs\u001b[0m\u001b[1;33m,\u001b[0m \u001b[1;33m**\u001b[0m\u001b[0mkwargs\u001b[0m\u001b[1;33m)\u001b[0m\u001b[1;33m\u001b[0m\u001b[1;33m\u001b[0m\u001b[0m\n\u001b[0m\u001b[0;32m    189\u001b[0m         \u001b[1;32mreturn\u001b[0m \u001b[0mwrapper\u001b[0m\u001b[1;33m\u001b[0m\u001b[1;33m\u001b[0m\u001b[0m\n\u001b[0;32m    190\u001b[0m     \u001b[1;32mreturn\u001b[0m \u001b[0m_deprecate_kwarg\u001b[0m\u001b[1;33m\u001b[0m\u001b[1;33m\u001b[0m\u001b[0m\n",
      "\u001b[1;32m~\\Anaconda3\\lib\\site-packages\\pandas\\util\\_decorators.py\u001b[0m in \u001b[0;36mwrapper\u001b[1;34m(*args, **kwargs)\u001b[0m\n\u001b[0;32m    186\u001b[0m                 \u001b[1;32melse\u001b[0m\u001b[1;33m:\u001b[0m\u001b[1;33m\u001b[0m\u001b[1;33m\u001b[0m\u001b[0m\n\u001b[0;32m    187\u001b[0m                     \u001b[0mkwargs\u001b[0m\u001b[1;33m[\u001b[0m\u001b[0mnew_arg_name\u001b[0m\u001b[1;33m]\u001b[0m \u001b[1;33m=\u001b[0m \u001b[0mnew_arg_value\u001b[0m\u001b[1;33m\u001b[0m\u001b[1;33m\u001b[0m\u001b[0m\n\u001b[1;32m--> 188\u001b[1;33m             \u001b[1;32mreturn\u001b[0m \u001b[0mfunc\u001b[0m\u001b[1;33m(\u001b[0m\u001b[1;33m*\u001b[0m\u001b[0margs\u001b[0m\u001b[1;33m,\u001b[0m \u001b[1;33m**\u001b[0m\u001b[0mkwargs\u001b[0m\u001b[1;33m)\u001b[0m\u001b[1;33m\u001b[0m\u001b[1;33m\u001b[0m\u001b[0m\n\u001b[0m\u001b[0;32m    189\u001b[0m         \u001b[1;32mreturn\u001b[0m \u001b[0mwrapper\u001b[0m\u001b[1;33m\u001b[0m\u001b[1;33m\u001b[0m\u001b[0m\n\u001b[0;32m    190\u001b[0m     \u001b[1;32mreturn\u001b[0m \u001b[0m_deprecate_kwarg\u001b[0m\u001b[1;33m\u001b[0m\u001b[1;33m\u001b[0m\u001b[0m\n",
      "\u001b[1;32m~\\Anaconda3\\lib\\site-packages\\pandas\\io\\excel.py\u001b[0m in \u001b[0;36mread_excel\u001b[1;34m(io, sheet_name, header, names, index_col, parse_cols, usecols, squeeze, dtype, engine, converters, true_values, false_values, skiprows, nrows, na_values, keep_default_na, verbose, parse_dates, date_parser, thousands, comment, skip_footer, skipfooter, convert_float, mangle_dupe_cols, **kwds)\u001b[0m\n\u001b[0;32m    348\u001b[0m \u001b[1;33m\u001b[0m\u001b[0m\n\u001b[0;32m    349\u001b[0m     \u001b[1;32mif\u001b[0m \u001b[1;32mnot\u001b[0m \u001b[0misinstance\u001b[0m\u001b[1;33m(\u001b[0m\u001b[0mio\u001b[0m\u001b[1;33m,\u001b[0m \u001b[0mExcelFile\u001b[0m\u001b[1;33m)\u001b[0m\u001b[1;33m:\u001b[0m\u001b[1;33m\u001b[0m\u001b[1;33m\u001b[0m\u001b[0m\n\u001b[1;32m--> 350\u001b[1;33m         \u001b[0mio\u001b[0m \u001b[1;33m=\u001b[0m \u001b[0mExcelFile\u001b[0m\u001b[1;33m(\u001b[0m\u001b[0mio\u001b[0m\u001b[1;33m,\u001b[0m \u001b[0mengine\u001b[0m\u001b[1;33m=\u001b[0m\u001b[0mengine\u001b[0m\u001b[1;33m)\u001b[0m\u001b[1;33m\u001b[0m\u001b[1;33m\u001b[0m\u001b[0m\n\u001b[0m\u001b[0;32m    351\u001b[0m \u001b[1;33m\u001b[0m\u001b[0m\n\u001b[0;32m    352\u001b[0m     return io.parse(\n",
      "\u001b[1;32m~\\Anaconda3\\lib\\site-packages\\pandas\\io\\excel.py\u001b[0m in \u001b[0;36m__init__\u001b[1;34m(self, io, engine)\u001b[0m\n\u001b[0;32m    651\u001b[0m         \u001b[0mself\u001b[0m\u001b[1;33m.\u001b[0m\u001b[0m_io\u001b[0m \u001b[1;33m=\u001b[0m \u001b[0m_stringify_path\u001b[0m\u001b[1;33m(\u001b[0m\u001b[0mio\u001b[0m\u001b[1;33m)\u001b[0m\u001b[1;33m\u001b[0m\u001b[1;33m\u001b[0m\u001b[0m\n\u001b[0;32m    652\u001b[0m \u001b[1;33m\u001b[0m\u001b[0m\n\u001b[1;32m--> 653\u001b[1;33m         \u001b[0mself\u001b[0m\u001b[1;33m.\u001b[0m\u001b[0m_reader\u001b[0m \u001b[1;33m=\u001b[0m \u001b[0mself\u001b[0m\u001b[1;33m.\u001b[0m\u001b[0m_engines\u001b[0m\u001b[1;33m[\u001b[0m\u001b[0mengine\u001b[0m\u001b[1;33m]\u001b[0m\u001b[1;33m(\u001b[0m\u001b[0mself\u001b[0m\u001b[1;33m.\u001b[0m\u001b[0m_io\u001b[0m\u001b[1;33m)\u001b[0m\u001b[1;33m\u001b[0m\u001b[1;33m\u001b[0m\u001b[0m\n\u001b[0m\u001b[0;32m    654\u001b[0m \u001b[1;33m\u001b[0m\u001b[0m\n\u001b[0;32m    655\u001b[0m     \u001b[1;32mdef\u001b[0m \u001b[0m__fspath__\u001b[0m\u001b[1;33m(\u001b[0m\u001b[0mself\u001b[0m\u001b[1;33m)\u001b[0m\u001b[1;33m:\u001b[0m\u001b[1;33m\u001b[0m\u001b[1;33m\u001b[0m\u001b[0m\n",
      "\u001b[1;32m~\\Anaconda3\\lib\\site-packages\\pandas\\io\\excel.py\u001b[0m in \u001b[0;36m__init__\u001b[1;34m(self, filepath_or_buffer)\u001b[0m\n\u001b[0;32m    422\u001b[0m             \u001b[0mself\u001b[0m\u001b[1;33m.\u001b[0m\u001b[0mbook\u001b[0m \u001b[1;33m=\u001b[0m \u001b[0mxlrd\u001b[0m\u001b[1;33m.\u001b[0m\u001b[0mopen_workbook\u001b[0m\u001b[1;33m(\u001b[0m\u001b[0mfile_contents\u001b[0m\u001b[1;33m=\u001b[0m\u001b[0mdata\u001b[0m\u001b[1;33m)\u001b[0m\u001b[1;33m\u001b[0m\u001b[1;33m\u001b[0m\u001b[0m\n\u001b[0;32m    423\u001b[0m         \u001b[1;32melif\u001b[0m \u001b[0misinstance\u001b[0m\u001b[1;33m(\u001b[0m\u001b[0mfilepath_or_buffer\u001b[0m\u001b[1;33m,\u001b[0m \u001b[0mcompat\u001b[0m\u001b[1;33m.\u001b[0m\u001b[0mstring_types\u001b[0m\u001b[1;33m)\u001b[0m\u001b[1;33m:\u001b[0m\u001b[1;33m\u001b[0m\u001b[1;33m\u001b[0m\u001b[0m\n\u001b[1;32m--> 424\u001b[1;33m             \u001b[0mself\u001b[0m\u001b[1;33m.\u001b[0m\u001b[0mbook\u001b[0m \u001b[1;33m=\u001b[0m \u001b[0mxlrd\u001b[0m\u001b[1;33m.\u001b[0m\u001b[0mopen_workbook\u001b[0m\u001b[1;33m(\u001b[0m\u001b[0mfilepath_or_buffer\u001b[0m\u001b[1;33m)\u001b[0m\u001b[1;33m\u001b[0m\u001b[1;33m\u001b[0m\u001b[0m\n\u001b[0m\u001b[0;32m    425\u001b[0m         \u001b[1;32melse\u001b[0m\u001b[1;33m:\u001b[0m\u001b[1;33m\u001b[0m\u001b[1;33m\u001b[0m\u001b[0m\n\u001b[0;32m    426\u001b[0m             raise ValueError('Must explicitly set engine if not passing in'\n",
      "\u001b[1;32m~\\Anaconda3\\lib\\site-packages\\xlrd\\__init__.py\u001b[0m in \u001b[0;36mopen_workbook\u001b[1;34m(filename, logfile, verbosity, use_mmap, file_contents, encoding_override, formatting_info, on_demand, ragged_rows)\u001b[0m\n\u001b[0;32m    109\u001b[0m     \u001b[1;32melse\u001b[0m\u001b[1;33m:\u001b[0m\u001b[1;33m\u001b[0m\u001b[1;33m\u001b[0m\u001b[0m\n\u001b[0;32m    110\u001b[0m         \u001b[0mfilename\u001b[0m \u001b[1;33m=\u001b[0m \u001b[0mos\u001b[0m\u001b[1;33m.\u001b[0m\u001b[0mpath\u001b[0m\u001b[1;33m.\u001b[0m\u001b[0mexpanduser\u001b[0m\u001b[1;33m(\u001b[0m\u001b[0mfilename\u001b[0m\u001b[1;33m)\u001b[0m\u001b[1;33m\u001b[0m\u001b[1;33m\u001b[0m\u001b[0m\n\u001b[1;32m--> 111\u001b[1;33m         \u001b[1;32mwith\u001b[0m \u001b[0mopen\u001b[0m\u001b[1;33m(\u001b[0m\u001b[0mfilename\u001b[0m\u001b[1;33m,\u001b[0m \u001b[1;34m\"rb\"\u001b[0m\u001b[1;33m)\u001b[0m \u001b[1;32mas\u001b[0m \u001b[0mf\u001b[0m\u001b[1;33m:\u001b[0m\u001b[1;33m\u001b[0m\u001b[1;33m\u001b[0m\u001b[0m\n\u001b[0m\u001b[0;32m    112\u001b[0m             \u001b[0mpeek\u001b[0m \u001b[1;33m=\u001b[0m \u001b[0mf\u001b[0m\u001b[1;33m.\u001b[0m\u001b[0mread\u001b[0m\u001b[1;33m(\u001b[0m\u001b[0mpeeksz\u001b[0m\u001b[1;33m)\u001b[0m\u001b[1;33m\u001b[0m\u001b[1;33m\u001b[0m\u001b[0m\n\u001b[0;32m    113\u001b[0m     \u001b[1;32mif\u001b[0m \u001b[0mpeek\u001b[0m \u001b[1;33m==\u001b[0m \u001b[1;34mb\"PK\\x03\\x04\"\u001b[0m\u001b[1;33m:\u001b[0m \u001b[1;31m# a ZIP file\u001b[0m\u001b[1;33m\u001b[0m\u001b[1;33m\u001b[0m\u001b[0m\n",
      "\u001b[1;31mFileNotFoundError\u001b[0m: [Errno 2] No such file or directory: 'C:\\\\Users\\\\tiesi\\\\Class D\\\\Aruodas Analytical work part 1\\\\Data.xlsx'"
     ]
    }
   ],
   "source": [
    "#load the raw data\n",
    "df = pd.read_excel(r'C:\\Users\\tiesi\\Class D\\Aruodas Analytical work part 1\\Data.xlsx', index_col=0) \n",
    "\n",
    "#update column types:\n",
    "df['log_date'] = pd.to_datetime(df['log_date'])\n",
    "#print(df.shape)\n",
    "print(df.head(5))"
   ]
  },
  {
   "cell_type": "markdown",
   "metadata": {},
   "source": [
    "Working the outlayers\n",
    "* Quantiles will be calculated individually for each day when the data was collected.\n",
    "* Bottom 5 and top 5 % of the data will be removed from each day to improve quality of results."
   ]
  },
  {
   "cell_type": "code",
   "execution_count": 3,
   "metadata": {},
   "outputs": [],
   "source": [
    "#getting all the dates\n",
    "log_dates = set(df['log_date'])\n",
    "#print(sorted(log_dates))\n",
    "\n",
    "#creating a new table where data without outlyers will be put\n",
    "df2 = pd.DataFrame(data=None, columns=df.columns, index=df.index)\n",
    "\n",
    "#preparing the quantiles range dataframe\n",
    "column_names = ['Q1','Q2','Q3','Q4','IQR', \n",
    "                'Skewness_w_outlyers','Skewness', \n",
    "                'Mean_w_outlyers', 'Mean',\n",
    "                'Median_w_outlyers', 'Median',\n",
    "                'nr_objects_w_outlyers', 'nr_objects']\n",
    "quantiles_range = pd.DataFrame(columns = column_names)\n",
    "\n",
    "for date in sorted(log_dates):\n",
    "    Q1 = df['price_sq_m'][df['log_date'] == date].quantile(.05) \n",
    "    Q2 = df['price_sq_m'][df['log_date'] == date].quantile(.25) \n",
    "    Q3 = df['price_sq_m'][df['log_date'] == date].quantile(.75) \n",
    "    Q4 = df['price_sq_m'][df['log_date'] == date].quantile(.95)\n",
    "    Skewness1 = df['price_sq_m'][df['log_date'] == date].skew()\n",
    "    Mean1 = df['price_sq_m'][df['log_date'] == date].mean()\n",
    "    Median1 = df['price_sq_m'][df['log_date'] == date].median()\n",
    "    IQR = Q3 - Q2\n",
    "    #adding data without outlyers to new table\n",
    "    df2 = df[df['price_sq_m'] > Q1]\n",
    "    df2 = df2[df2['price_sq_m'] < Q4]\n",
    "    Skewness2 = df2['price_sq_m'][df2['log_date'] == date].skew()\n",
    "    Mean2 = df2['price_sq_m'][df2['log_date'] == date].mean()\n",
    "    Median2 = df2['price_sq_m'][df2['log_date'] == date].median()\n",
    "    nr_objects_w_outlyers = df['price_sq_m'][df['log_date'] == date].count()\n",
    "    nr_objects = df2['price_sq_m'][df2['log_date'] == date].count()\n",
    "    quantiles_range = quantiles_range.append(pd.Series(data={'Q1': Q1,\n",
    "                                                             'Q2': Q2,\n",
    "                                                             'Q3' : Q3,\n",
    "                                                             'Q4': Q4,\n",
    "                                                             'IQR': IQR,\n",
    "                                                             'Skewness_w_outlyers': Skewness1,\n",
    "                                                             'Skewness': Skewness2,\n",
    "                                                             'Mean_w_outlyers': Mean1,\n",
    "                                                             'Mean': Mean2,\n",
    "                                                             'Median_w_outlyers':Median1,\n",
    "                                                             'Median':Median2,\n",
    "                                                             'nr_objects_w_outlyers': nr_objects_w_outlyers,\n",
    "                                                             'nr_objects': nr_objects\n",
    "                                                            }, name=(date)))\n"
   ]
  },
  {
   "cell_type": "code",
   "execution_count": 4,
   "metadata": {
    "scrolled": true
   },
   "outputs": [
    {
     "data": {
      "text/html": [
       "<div>\n",
       "<style scoped>\n",
       "    .dataframe tbody tr th:only-of-type {\n",
       "        vertical-align: middle;\n",
       "    }\n",
       "\n",
       "    .dataframe tbody tr th {\n",
       "        vertical-align: top;\n",
       "    }\n",
       "\n",
       "    .dataframe thead th {\n",
       "        text-align: right;\n",
       "    }\n",
       "</style>\n",
       "<table border=\"1\" class=\"dataframe\">\n",
       "  <thead>\n",
       "    <tr style=\"text-align: right;\">\n",
       "      <th></th>\n",
       "      <th>Q1</th>\n",
       "      <th>Q2</th>\n",
       "      <th>Q3</th>\n",
       "      <th>Q4</th>\n",
       "      <th>IQR</th>\n",
       "      <th>Skewness_w_outlyers</th>\n",
       "      <th>Skewness</th>\n",
       "      <th>Mean_w_outlyers</th>\n",
       "      <th>Mean</th>\n",
       "      <th>Median_w_outlyers</th>\n",
       "      <th>Median</th>\n",
       "      <th>nr_objects_w_outlyers</th>\n",
       "      <th>nr_objects</th>\n",
       "      <th>log_date</th>\n",
       "    </tr>\n",
       "  </thead>\n",
       "  <tbody>\n",
       "    <tr>\n",
       "      <th>2020-05-26</th>\n",
       "      <td>955.00</td>\n",
       "      <td>1429.25</td>\n",
       "      <td>2453.75</td>\n",
       "      <td>3599.4</td>\n",
       "      <td>1024.50</td>\n",
       "      <td>1.282432</td>\n",
       "      <td>0.600588</td>\n",
       "      <td>2005.630608</td>\n",
       "      <td>1948.467635</td>\n",
       "      <td>1823.5</td>\n",
       "      <td>1824.0</td>\n",
       "      <td>3522.0</td>\n",
       "      <td>3167.0</td>\n",
       "      <td>2020-05-26</td>\n",
       "    </tr>\n",
       "    <tr>\n",
       "      <th>2020-05-30</th>\n",
       "      <td>953.95</td>\n",
       "      <td>1438.75</td>\n",
       "      <td>2478.00</td>\n",
       "      <td>3588.6</td>\n",
       "      <td>1039.25</td>\n",
       "      <td>1.268314</td>\n",
       "      <td>0.588233</td>\n",
       "      <td>2010.648023</td>\n",
       "      <td>1953.719083</td>\n",
       "      <td>1825.0</td>\n",
       "      <td>1825.0</td>\n",
       "      <td>3540.0</td>\n",
       "      <td>3186.0</td>\n",
       "      <td>2020-05-30</td>\n",
       "    </tr>\n",
       "    <tr>\n",
       "      <th>2020-06-03</th>\n",
       "      <td>956.00</td>\n",
       "      <td>1434.50</td>\n",
       "      <td>2467.00</td>\n",
       "      <td>3589.2</td>\n",
       "      <td>1032.50</td>\n",
       "      <td>1.292766</td>\n",
       "      <td>0.600142</td>\n",
       "      <td>2005.598212</td>\n",
       "      <td>1948.286957</td>\n",
       "      <td>1825.0</td>\n",
       "      <td>1825.0</td>\n",
       "      <td>3579.0</td>\n",
       "      <td>3220.0</td>\n",
       "      <td>2020-06-03</td>\n",
       "    </tr>\n",
       "    <tr>\n",
       "      <th>2020-06-10</th>\n",
       "      <td>990.00</td>\n",
       "      <td>1442.50</td>\n",
       "      <td>2467.00</td>\n",
       "      <td>3602.0</td>\n",
       "      <td>1024.50</td>\n",
       "      <td>1.293688</td>\n",
       "      <td>0.631237</td>\n",
       "      <td>2014.610617</td>\n",
       "      <td>1957.723786</td>\n",
       "      <td>1825.5</td>\n",
       "      <td>1826.0</td>\n",
       "      <td>3598.0</td>\n",
       "      <td>3233.0</td>\n",
       "      <td>2020-06-10</td>\n",
       "    </tr>\n",
       "    <tr>\n",
       "      <th>2020-06-17</th>\n",
       "      <td>989.65</td>\n",
       "      <td>1441.25</td>\n",
       "      <td>2451.50</td>\n",
       "      <td>3602.0</td>\n",
       "      <td>1010.25</td>\n",
       "      <td>1.274639</td>\n",
       "      <td>0.626538</td>\n",
       "      <td>2011.984331</td>\n",
       "      <td>1953.822395</td>\n",
       "      <td>1827.0</td>\n",
       "      <td>1827.0</td>\n",
       "      <td>3574.0</td>\n",
       "      <td>3215.0</td>\n",
       "      <td>2020-06-17</td>\n",
       "    </tr>\n",
       "  </tbody>\n",
       "</table>\n",
       "</div>"
      ],
      "text/plain": [
       "                Q1       Q2       Q3      Q4      IQR  Skewness_w_outlyers  \\\n",
       "2020-05-26  955.00  1429.25  2453.75  3599.4  1024.50             1.282432   \n",
       "2020-05-30  953.95  1438.75  2478.00  3588.6  1039.25             1.268314   \n",
       "2020-06-03  956.00  1434.50  2467.00  3589.2  1032.50             1.292766   \n",
       "2020-06-10  990.00  1442.50  2467.00  3602.0  1024.50             1.293688   \n",
       "2020-06-17  989.65  1441.25  2451.50  3602.0  1010.25             1.274639   \n",
       "\n",
       "            Skewness  Mean_w_outlyers         Mean  Median_w_outlyers  Median  \\\n",
       "2020-05-26  0.600588      2005.630608  1948.467635             1823.5  1824.0   \n",
       "2020-05-30  0.588233      2010.648023  1953.719083             1825.0  1825.0   \n",
       "2020-06-03  0.600142      2005.598212  1948.286957             1825.0  1825.0   \n",
       "2020-06-10  0.631237      2014.610617  1957.723786             1825.5  1826.0   \n",
       "2020-06-17  0.626538      2011.984331  1953.822395             1827.0  1827.0   \n",
       "\n",
       "            nr_objects_w_outlyers  nr_objects   log_date  \n",
       "2020-05-26                 3522.0      3167.0 2020-05-26  \n",
       "2020-05-30                 3540.0      3186.0 2020-05-30  \n",
       "2020-06-03                 3579.0      3220.0 2020-06-03  \n",
       "2020-06-10                 3598.0      3233.0 2020-06-10  \n",
       "2020-06-17                 3574.0      3215.0 2020-06-17  "
      ]
     },
     "execution_count": 4,
     "metadata": {},
     "output_type": "execute_result"
    }
   ],
   "source": [
    "quantiles_range['log_date'] = quantiles_range.index\n",
    "quantiles_range.tail()"
   ]
  },
  {
   "cell_type": "code",
   "execution_count": 7,
   "metadata": {
    "cell_style": "split"
   },
   "outputs": [
    {
     "data": {
      "image/png": "[encoded data removed]",
      "text/plain": [
       "<Figure size 432x288 with 1 Axes>"
      ]
     },
     "metadata": {
      "needs_background": "light"
     },
     "output_type": "display_data"
    }
   ],
   "source": [
    "plt.plot(quantiles_range['Mean'])\n",
    "plt.ylabel('Mean')\n",
    "plt.show()"
   ]
  },
  {
   "cell_type": "code",
   "execution_count": 6,
   "metadata": {
    "cell_style": "split"
   },
   "outputs": [
    {
     "data": {
      "image/png": "[encoded data removed]",
      "text/plain": [
       "<Figure size 432x288 with 1 Axes>"
      ]
     },
     "metadata": {
      "needs_background": "light"
     },
     "output_type": "display_data"
    }
   ],
   "source": [
    "plt.plot(quantiles_range['nr_objects'])\n",
    "plt.ylabel('number of objects')\n",
    "plt.show()"
   ]
  },
  {
   "cell_type": "code",
   "execution_count": null,
   "metadata": {},
   "outputs": [],
   "source": [
    "# plt.plot( 'log_date', 'Q1', data=quantiles_range, marker='o', markerfacecolor='blue', markersize=12, color='skyblue', linewidth=4)\n",
    "# plt.plot( 'log_date', 'Q2', data=quantiles_range, marker='', color='olive', linewidth=2)\n",
    "# plt.plot( 'log_date', 'Q3', data=quantiles_range, marker='', color='olive', linewidth=2, linestyle='dashed', label=\"toto\")\n",
    "# plt.legend()"
   ]
  },
  {
   "cell_type": "code",
   "execution_count": null,
   "metadata": {},
   "outputs": [],
   "source": [
    "#IQR Score\n",
    "#The rule of thumb is that anything not in the range of (Q1 - 1.5 IQR) and (Q3 + 1.5 IQR) is an outlier, and can be removed.\n",
    "# df3 = df['price_sq_m']\n",
    "\n",
    "# df_out = df3[~((df3 < (Q1 - 1.5 * IQR)) |(data1 > (Q3 + 1.5 * IQR))).any(axis=1)]\n",
    "# print(df_out.shape)"
   ]
  },
  {
   "cell_type": "markdown",
   "metadata": {
    "cell_style": "split"
   },
   "source": [
    "* with outlyers (min & max 5%)"
   ]
  },
  {
   "cell_type": "markdown",
   "metadata": {
    "cell_style": "split"
   },
   "source": [
    "* without outlyers (min & max 5%)"
   ]
  },
  {
   "cell_type": "code",
   "execution_count": 8,
   "metadata": {
    "cell_style": "split",
    "scrolled": true
   },
   "outputs": [
    {
     "data": {
      "image/png": "[encoded data removed]",
      "text/plain": [
       "<Figure size 432x288 with 1 Axes>"
      ]
     },
     "metadata": {
      "needs_background": "light"
     },
     "output_type": "display_data"
    }
   ],
   "source": [
    "plt.boxplot(df['price_sq_m'])\n",
    "plt.show()"
   ]
  },
  {
   "cell_type": "code",
   "execution_count": 10,
   "metadata": {
    "cell_style": "split"
   },
   "outputs": [
    {
     "data": {
      "image/png": "[encoded data removed]",
      "text/plain": [
       "<Figure size 432x288 with 1 Axes>"
      ]
     },
     "metadata": {
      "needs_background": "light"
     },
     "output_type": "display_data"
    }
   ],
   "source": [
    "plt.boxplot(df2['price_sq_m'])\n",
    "plt.show()"
   ]
  },
  {
   "cell_type": "markdown",
   "metadata": {},
   "source": [
    "## Creation of data buckets for further analysis"
   ]
  },
  {
   "cell_type": "code",
   "execution_count": 11,
   "metadata": {},
   "outputs": [],
   "source": [
    "# apartment size buckets:\n",
    "def define_size_bucket(df2):\n",
    "  if df2['space_sq_m'] < 30.0:\n",
    "    return 1\n",
    "  elif df2['space_sq_m'] > 30.0 and df2['space_sq_m']< 55.0:\n",
    "    return 2\n",
    "  elif df2['space_sq_m'] > 55.0 and df2['space_sq_m']< 70.0:\n",
    "    return 3\n",
    "  elif df2['space_sq_m'] > 70.0 and df2['space_sq_m']< 90.0:\n",
    "    return 4\n",
    "  else:\n",
    "    return 5\n"
   ]
  },
  {
   "cell_type": "code",
   "execution_count": 12,
   "metadata": {},
   "outputs": [],
   "source": [
    "df2['size_bucket'] = df2.apply(define_size_bucket, axis=1)\n",
    "#df2['district_bucket'] = df2.apply(define_district_bucket, axis=1)"
   ]
  },
  {
   "cell_type": "code",
   "execution_count": 13,
   "metadata": {},
   "outputs": [],
   "source": [
    "#street ranking calculation\n",
    "streets = df2.groupby('street').aggregate(np.mean)\n",
    "streets = streets.sort_values(by=['price_sq_m'], ascending=False)\n",
    "streets = streets.reset_index()\n",
    "streets['street_rank'] = streets.index\n",
    "streets = streets[['street','street_rank']]"
   ]
  },
  {
   "cell_type": "code",
   "execution_count": 14,
   "metadata": {},
   "outputs": [],
   "source": [
    "#district ranking calculation\n",
    "districts = df2.groupby('district').aggregate(np.mean)\n",
    "districts = districts.sort_values(by=['price_sq_m'], ascending=False)\n",
    "districts = districts.reset_index()\n",
    "districts['district_rank'] = districts.index\n",
    "districts = districts[['district','district_rank']]"
   ]
  },
  {
   "cell_type": "code",
   "execution_count": 14,
   "metadata": {},
   "outputs": [],
   "source": [
    "df2 = pd.merge(df2, districts, on='district', how='outer')\n",
    "df2 = pd.merge(df2, streets, on='street', how='outer')\n"
   ]
  },
  {
   "cell_type": "markdown",
   "metadata": {},
   "source": [
    "## Correlation initial Analysis"
   ]
  },
  {
   "cell_type": "code",
   "execution_count": 15,
   "metadata": {},
   "outputs": [
    {
     "name": "stdout",
     "output_type": "stream",
     "text": [
      "is_new_project: -0.007634\n",
      "reserved: -0.008234\n",
      "price_change: -0.010973\n",
      "is_auction: -0.008857\n",
      "nr_stars: -0.020907\n",
      "year: 0.086500\n",
      "total_price: 0.542693\n",
      "price_sq_m: 1.000000\n",
      "rounded_price_sq_m: 0.998930\n",
      "nr_rooms: 0.018102\n",
      "space_sq_m: 0.073222\n",
      "rounded_space_sq_m: 0.073204\n",
      "floor: 0.013096\n",
      "nr_floors: 0.002026\n",
      "state: -0.052899\n",
      "type: nan\n",
      "size_bucket: 0.076606\n"
     ]
    },
    {
     "ename": "KeyError",
     "evalue": "'district_rank'",
     "output_type": "error",
     "traceback": [
      "\u001b[1;31m---------------------------------------------------------------------------\u001b[0m",
      "\u001b[1;31mKeyError\u001b[0m                                  Traceback (most recent call last)",
      "\u001b[1;32m~\\Anaconda3\\lib\\site-packages\\pandas\\core\\indexes\\base.py\u001b[0m in \u001b[0;36mget_loc\u001b[1;34m(self, key, method, tolerance)\u001b[0m\n\u001b[0;32m   2656\u001b[0m             \u001b[1;32mtry\u001b[0m\u001b[1;33m:\u001b[0m\u001b[1;33m\u001b[0m\u001b[1;33m\u001b[0m\u001b[0m\n\u001b[1;32m-> 2657\u001b[1;33m                 \u001b[1;32mreturn\u001b[0m \u001b[0mself\u001b[0m\u001b[1;33m.\u001b[0m\u001b[0m_engine\u001b[0m\u001b[1;33m.\u001b[0m\u001b[0mget_loc\u001b[0m\u001b[1;33m(\u001b[0m\u001b[0mkey\u001b[0m\u001b[1;33m)\u001b[0m\u001b[1;33m\u001b[0m\u001b[1;33m\u001b[0m\u001b[0m\n\u001b[0m\u001b[0;32m   2658\u001b[0m             \u001b[1;32mexcept\u001b[0m \u001b[0mKeyError\u001b[0m\u001b[1;33m:\u001b[0m\u001b[1;33m\u001b[0m\u001b[1;33m\u001b[0m\u001b[0m\n",
      "\u001b[1;32mpandas/_libs/index.pyx\u001b[0m in \u001b[0;36mpandas._libs.index.IndexEngine.get_loc\u001b[1;34m()\u001b[0m\n",
      "\u001b[1;32mpandas/_libs/index.pyx\u001b[0m in \u001b[0;36mpandas._libs.index.IndexEngine.get_loc\u001b[1;34m()\u001b[0m\n",
      "\u001b[1;32mpandas/_libs/hashtable_class_helper.pxi\u001b[0m in \u001b[0;36mpandas._libs.hashtable.PyObjectHashTable.get_item\u001b[1;34m()\u001b[0m\n",
      "\u001b[1;32mpandas/_libs/hashtable_class_helper.pxi\u001b[0m in \u001b[0;36mpandas._libs.hashtable.PyObjectHashTable.get_item\u001b[1;34m()\u001b[0m\n",
      "\u001b[1;31mKeyError\u001b[0m: 'district_rank'",
      "\nDuring handling of the above exception, another exception occurred:\n",
      "\u001b[1;31mKeyError\u001b[0m                                  Traceback (most recent call last)",
      "\u001b[1;32m<ipython-input-15-89a65ff3d014>\u001b[0m in \u001b[0;36m<module>\u001b[1;34m\u001b[0m\n\u001b[0;32m      7\u001b[0m \u001b[1;31m# check how the features are correlated with the price  sq m\u001b[0m\u001b[1;33m\u001b[0m\u001b[1;33m\u001b[0m\u001b[1;33m\u001b[0m\u001b[0m\n\u001b[0;32m      8\u001b[0m \u001b[1;32mfor\u001b[0m \u001b[0mf\u001b[0m \u001b[1;32min\u001b[0m \u001b[0mpotentialFeatures\u001b[0m\u001b[1;33m:\u001b[0m\u001b[1;33m\u001b[0m\u001b[1;33m\u001b[0m\u001b[0m\n\u001b[1;32m----> 9\u001b[1;33m     \u001b[0mrelated\u001b[0m \u001b[1;33m=\u001b[0m \u001b[0mdf2\u001b[0m\u001b[1;33m[\u001b[0m\u001b[1;34m'price_sq_m'\u001b[0m\u001b[1;33m]\u001b[0m\u001b[1;33m.\u001b[0m\u001b[0mcorr\u001b[0m\u001b[1;33m(\u001b[0m\u001b[0mdf2\u001b[0m\u001b[1;33m[\u001b[0m\u001b[0mf\u001b[0m\u001b[1;33m]\u001b[0m\u001b[1;33m)\u001b[0m\u001b[1;33m\u001b[0m\u001b[1;33m\u001b[0m\u001b[0m\n\u001b[0m\u001b[0;32m     10\u001b[0m     \u001b[0mprint\u001b[0m\u001b[1;33m(\u001b[0m\u001b[1;34m\"%s: %f\"\u001b[0m \u001b[1;33m%\u001b[0m \u001b[1;33m(\u001b[0m\u001b[0mf\u001b[0m\u001b[1;33m,\u001b[0m\u001b[0mrelated\u001b[0m\u001b[1;33m)\u001b[0m\u001b[1;33m)\u001b[0m\u001b[1;33m\u001b[0m\u001b[1;33m\u001b[0m\u001b[0m\n",
      "\u001b[1;32m~\\Anaconda3\\lib\\site-packages\\pandas\\core\\frame.py\u001b[0m in \u001b[0;36m__getitem__\u001b[1;34m(self, key)\u001b[0m\n\u001b[0;32m   2925\u001b[0m             \u001b[1;32mif\u001b[0m \u001b[0mself\u001b[0m\u001b[1;33m.\u001b[0m\u001b[0mcolumns\u001b[0m\u001b[1;33m.\u001b[0m\u001b[0mnlevels\u001b[0m \u001b[1;33m>\u001b[0m \u001b[1;36m1\u001b[0m\u001b[1;33m:\u001b[0m\u001b[1;33m\u001b[0m\u001b[1;33m\u001b[0m\u001b[0m\n\u001b[0;32m   2926\u001b[0m                 \u001b[1;32mreturn\u001b[0m \u001b[0mself\u001b[0m\u001b[1;33m.\u001b[0m\u001b[0m_getitem_multilevel\u001b[0m\u001b[1;33m(\u001b[0m\u001b[0mkey\u001b[0m\u001b[1;33m)\u001b[0m\u001b[1;33m\u001b[0m\u001b[1;33m\u001b[0m\u001b[0m\n\u001b[1;32m-> 2927\u001b[1;33m             \u001b[0mindexer\u001b[0m \u001b[1;33m=\u001b[0m \u001b[0mself\u001b[0m\u001b[1;33m.\u001b[0m\u001b[0mcolumns\u001b[0m\u001b[1;33m.\u001b[0m\u001b[0mget_loc\u001b[0m\u001b[1;33m(\u001b[0m\u001b[0mkey\u001b[0m\u001b[1;33m)\u001b[0m\u001b[1;33m\u001b[0m\u001b[1;33m\u001b[0m\u001b[0m\n\u001b[0m\u001b[0;32m   2928\u001b[0m             \u001b[1;32mif\u001b[0m \u001b[0mis_integer\u001b[0m\u001b[1;33m(\u001b[0m\u001b[0mindexer\u001b[0m\u001b[1;33m)\u001b[0m\u001b[1;33m:\u001b[0m\u001b[1;33m\u001b[0m\u001b[1;33m\u001b[0m\u001b[0m\n\u001b[0;32m   2929\u001b[0m                 \u001b[0mindexer\u001b[0m \u001b[1;33m=\u001b[0m \u001b[1;33m[\u001b[0m\u001b[0mindexer\u001b[0m\u001b[1;33m]\u001b[0m\u001b[1;33m\u001b[0m\u001b[1;33m\u001b[0m\u001b[0m\n",
      "\u001b[1;32m~\\Anaconda3\\lib\\site-packages\\pandas\\core\\indexes\\base.py\u001b[0m in \u001b[0;36mget_loc\u001b[1;34m(self, key, method, tolerance)\u001b[0m\n\u001b[0;32m   2657\u001b[0m                 \u001b[1;32mreturn\u001b[0m \u001b[0mself\u001b[0m\u001b[1;33m.\u001b[0m\u001b[0m_engine\u001b[0m\u001b[1;33m.\u001b[0m\u001b[0mget_loc\u001b[0m\u001b[1;33m(\u001b[0m\u001b[0mkey\u001b[0m\u001b[1;33m)\u001b[0m\u001b[1;33m\u001b[0m\u001b[1;33m\u001b[0m\u001b[0m\n\u001b[0;32m   2658\u001b[0m             \u001b[1;32mexcept\u001b[0m \u001b[0mKeyError\u001b[0m\u001b[1;33m:\u001b[0m\u001b[1;33m\u001b[0m\u001b[1;33m\u001b[0m\u001b[0m\n\u001b[1;32m-> 2659\u001b[1;33m                 \u001b[1;32mreturn\u001b[0m \u001b[0mself\u001b[0m\u001b[1;33m.\u001b[0m\u001b[0m_engine\u001b[0m\u001b[1;33m.\u001b[0m\u001b[0mget_loc\u001b[0m\u001b[1;33m(\u001b[0m\u001b[0mself\u001b[0m\u001b[1;33m.\u001b[0m\u001b[0m_maybe_cast_indexer\u001b[0m\u001b[1;33m(\u001b[0m\u001b[0mkey\u001b[0m\u001b[1;33m)\u001b[0m\u001b[1;33m)\u001b[0m\u001b[1;33m\u001b[0m\u001b[1;33m\u001b[0m\u001b[0m\n\u001b[0m\u001b[0;32m   2660\u001b[0m         \u001b[0mindexer\u001b[0m \u001b[1;33m=\u001b[0m \u001b[0mself\u001b[0m\u001b[1;33m.\u001b[0m\u001b[0mget_indexer\u001b[0m\u001b[1;33m(\u001b[0m\u001b[1;33m[\u001b[0m\u001b[0mkey\u001b[0m\u001b[1;33m]\u001b[0m\u001b[1;33m,\u001b[0m \u001b[0mmethod\u001b[0m\u001b[1;33m=\u001b[0m\u001b[0mmethod\u001b[0m\u001b[1;33m,\u001b[0m \u001b[0mtolerance\u001b[0m\u001b[1;33m=\u001b[0m\u001b[0mtolerance\u001b[0m\u001b[1;33m)\u001b[0m\u001b[1;33m\u001b[0m\u001b[1;33m\u001b[0m\u001b[0m\n\u001b[0;32m   2661\u001b[0m         \u001b[1;32mif\u001b[0m \u001b[0mindexer\u001b[0m\u001b[1;33m.\u001b[0m\u001b[0mndim\u001b[0m \u001b[1;33m>\u001b[0m \u001b[1;36m1\u001b[0m \u001b[1;32mor\u001b[0m \u001b[0mindexer\u001b[0m\u001b[1;33m.\u001b[0m\u001b[0msize\u001b[0m \u001b[1;33m>\u001b[0m \u001b[1;36m1\u001b[0m\u001b[1;33m:\u001b[0m\u001b[1;33m\u001b[0m\u001b[1;33m\u001b[0m\u001b[0m\n",
      "\u001b[1;32mpandas/_libs/index.pyx\u001b[0m in \u001b[0;36mpandas._libs.index.IndexEngine.get_loc\u001b[1;34m()\u001b[0m\n",
      "\u001b[1;32mpandas/_libs/index.pyx\u001b[0m in \u001b[0;36mpandas._libs.index.IndexEngine.get_loc\u001b[1;34m()\u001b[0m\n",
      "\u001b[1;32mpandas/_libs/hashtable_class_helper.pxi\u001b[0m in \u001b[0;36mpandas._libs.hashtable.PyObjectHashTable.get_item\u001b[1;34m()\u001b[0m\n",
      "\u001b[1;32mpandas/_libs/hashtable_class_helper.pxi\u001b[0m in \u001b[0;36mpandas._libs.hashtable.PyObjectHashTable.get_item\u001b[1;34m()\u001b[0m\n",
      "\u001b[1;31mKeyError\u001b[0m: 'district_rank'"
     ]
    }
   ],
   "source": [
    "df2.columns\n",
    "potentialFeatures = [ 'is_new_project', 'reserved',\n",
    "       'price_change', 'is_auction', 'nr_stars', 'year', 'total_price',\n",
    "       'price_sq_m', 'rounded_price_sq_m', 'nr_rooms', 'space_sq_m',\n",
    "       'rounded_space_sq_m', 'floor', 'nr_floors', 'state', 'type',\n",
    "       'size_bucket', 'district_rank', 'street_rank']\n",
    "# check how the features are correlated with the price  sq m\n",
    "for f in potentialFeatures:\n",
    "    related = df2['price_sq_m'].corr(df2[f])\n",
    "    print(\"%s: %f\" % (f,related))"
   ]
  },
  {
   "cell_type": "code",
   "execution_count": 16,
   "metadata": {},
   "outputs": [
    {
     "data": {
      "text/plain": [
       "<matplotlib.axes._subplots.AxesSubplot at 0x1d28a27bba8>"
      ]
     },
     "execution_count": 16,
     "metadata": {},
     "output_type": "execute_result"
    },
    {
     "data": {
      "image/png": "[encoded data removed]",
      "text/plain": [
       "<Figure size 432x288 with 1 Axes>"
      ]
     },
     "metadata": {
      "needs_background": "light"
     },
     "output_type": "display_data"
    }
   ],
   "source": [
    "df2.boxplot(column='price_sq_m', by='state')\n",
    "df2.price_sq_m.hist()"
   ]
  },
  {
   "cell_type": "code",
   "execution_count": 17,
   "metadata": {},
   "outputs": [
    {
     "data": {
      "image/png": "[encoded data removed]",
      "text/plain": [
       "<Figure size 864x432 with 1 Axes>"
      ]
     },
     "metadata": {
      "needs_background": "light"
     },
     "output_type": "display_data"
    }
   ],
   "source": [
    "fig, ax = plt.subplots(figsize=(12,6))\n",
    "ax.scatter(df2['price_sq_m'], df2['space_sq_m'])\n",
    "ax.set_xlabel('price sq m')\n",
    "ax.set_ylabel('space')\n",
    "plt.show()"
   ]
  },
  {
   "cell_type": "markdown",
   "metadata": {},
   "source": [
    "Code below is either not used or to be used later:"
   ]
  },
  {
   "cell_type": "code",
   "execution_count": null,
   "metadata": {},
   "outputs": [],
   "source": [
    "#Skewness\n",
    "# -1 / + 1 is considered regular\n",
    "print(df['price_sq_m'].skew())\n",
    "df['price_sq_m'].describe()"
   ]
  },
  {
   "cell_type": "code",
   "execution_count": null,
   "metadata": {},
   "outputs": [],
   "source": [
    "#Outlier treatment\n",
    "#Quantile-based Flooring and Capping\n",
    "Q1 = df['price_sq_m'].quantile(0.05)\n",
    "Q3 = df['price_sq_m'].quantile(0.95)\n",
    "print(Q1)\n",
    "print(Q3)\n",
    "\n",
    "\n",
    "data_1 = df[df['price_sq_m'] > Q1]\n",
    "data_1 = df[df['price_sq_m'] < Q3]\n",
    "print(data_1.shape)\n",
    "#skewness differences\n",
    "print(df['price_sq_m'].skew())\n",
    "print(data_1['price_sq_m'].skew())\n"
   ]
  },
  {
   "cell_type": "code",
   "execution_count": null,
   "metadata": {},
   "outputs": [],
   "source": [
    "#trimming\n",
    "index = data[(data1['price_sq_m'] >= 3156.0)|(data['price_sq_m'] <= 1113.19)].index\n",
    "data.drop(index, inplace=True)\n",
    "data['price_sq_m'].describe()"
   ]
  },
  {
   "cell_type": "code",
   "execution_count": null,
   "metadata": {},
   "outputs": [],
   "source": [
    "#IQR Score\n",
    "#The rule of thumb is that anything not in the range of (Q1 - 1.5 IQR) and (Q3 + 1.5 IQR) is an outlier, and can be removed.\n",
    "df3 = df['price_sq_m']\n",
    "\n",
    "df_out = df3[~((df3 < (Q1 - 1.5 * IQR)) |(data1 > (Q3 + 1.5 * IQR))).any(axis=1)]\n",
    "print(df_out.shape)"
   ]
  },
  {
   "cell_type": "code",
   "execution_count": 183,
   "metadata": {},
   "outputs": [
    {
     "data": {
      "text/html": [
       "<div>\n",
       "<style scoped>\n",
       "    .dataframe tbody tr th:only-of-type {\n",
       "        vertical-align: middle;\n",
       "    }\n",
       "\n",
       "    .dataframe tbody tr th {\n",
       "        vertical-align: top;\n",
       "    }\n",
       "\n",
       "    .dataframe thead th {\n",
       "        text-align: right;\n",
       "    }\n",
       "</style>\n",
       "<table border=\"1\" class=\"dataframe\">\n",
       "  <thead>\n",
       "    <tr style=\"text-align: right;\">\n",
       "      <th></th>\n",
       "      <th>is_new_project</th>\n",
       "      <th>reserved</th>\n",
       "      <th>price_change</th>\n",
       "      <th>is_auction</th>\n",
       "      <th>nr_stars</th>\n",
       "      <th>year</th>\n",
       "      <th>total_price</th>\n",
       "      <th>price_sq_m</th>\n",
       "      <th>rounded_price_sq_m</th>\n",
       "      <th>nr_rooms</th>\n",
       "      <th>space_sq_m</th>\n",
       "      <th>rounded_space_sq_m</th>\n",
       "      <th>floor</th>\n",
       "      <th>nr_floors</th>\n",
       "      <th>state</th>\n",
       "      <th>type</th>\n",
       "      <th>size_bucket</th>\n",
       "    </tr>\n",
       "    <tr>\n",
       "      <th>log_date</th>\n",
       "      <th></th>\n",
       "      <th></th>\n",
       "      <th></th>\n",
       "      <th></th>\n",
       "      <th></th>\n",
       "      <th></th>\n",
       "      <th></th>\n",
       "      <th></th>\n",
       "      <th></th>\n",
       "      <th></th>\n",
       "      <th></th>\n",
       "      <th></th>\n",
       "      <th></th>\n",
       "      <th></th>\n",
       "      <th></th>\n",
       "      <th></th>\n",
       "      <th></th>\n",
       "    </tr>\n",
       "  </thead>\n",
       "  <tbody>\n",
       "    <tr>\n",
       "      <th>2020-04-09</th>\n",
       "      <td>0.068239</td>\n",
       "      <td>0.016792</td>\n",
       "      <td>0.039741</td>\n",
       "      <td>0.023580</td>\n",
       "      <td>0.440157</td>\n",
       "      <td>1996.252233</td>\n",
       "      <td>122150.586995</td>\n",
       "      <td>1911.601286</td>\n",
       "      <td>1913.504823</td>\n",
       "      <td>2.467310</td>\n",
       "      <td>62.572008</td>\n",
       "      <td>62.574848</td>\n",
       "      <td>3.389425</td>\n",
       "      <td>6.643087</td>\n",
       "      <td>1.635584</td>\n",
       "      <td>1.0</td>\n",
       "      <td>2.964987</td>\n",
       "    </tr>\n",
       "    <tr>\n",
       "      <th>2020-04-10</th>\n",
       "      <td>0.069414</td>\n",
       "      <td>0.016269</td>\n",
       "      <td>0.040334</td>\n",
       "      <td>0.024223</td>\n",
       "      <td>0.438539</td>\n",
       "      <td>1996.203181</td>\n",
       "      <td>121593.971800</td>\n",
       "      <td>1909.622560</td>\n",
       "      <td>1911.641359</td>\n",
       "      <td>2.461678</td>\n",
       "      <td>62.394624</td>\n",
       "      <td>62.398771</td>\n",
       "      <td>3.392986</td>\n",
       "      <td>6.654736</td>\n",
       "      <td>1.626537</td>\n",
       "      <td>1.0</td>\n",
       "      <td>2.954447</td>\n",
       "    </tr>\n",
       "    <tr>\n",
       "      <th>2020-04-11</th>\n",
       "      <td>0.065789</td>\n",
       "      <td>0.016003</td>\n",
       "      <td>0.039469</td>\n",
       "      <td>0.021693</td>\n",
       "      <td>0.390825</td>\n",
       "      <td>1996.438122</td>\n",
       "      <td>122126.564367</td>\n",
       "      <td>1913.283428</td>\n",
       "      <td>1915.291607</td>\n",
       "      <td>2.466572</td>\n",
       "      <td>62.544733</td>\n",
       "      <td>62.548720</td>\n",
       "      <td>3.403627</td>\n",
       "      <td>6.656117</td>\n",
       "      <td>1.636913</td>\n",
       "      <td>1.0</td>\n",
       "      <td>2.964794</td>\n",
       "    </tr>\n",
       "    <tr>\n",
       "      <th>2020-04-12</th>\n",
       "      <td>0.067116</td>\n",
       "      <td>0.015980</td>\n",
       "      <td>0.039712</td>\n",
       "      <td>0.021662</td>\n",
       "      <td>0.348722</td>\n",
       "      <td>1996.610440</td>\n",
       "      <td>122044.691761</td>\n",
       "      <td>1913.732244</td>\n",
       "      <td>1915.838068</td>\n",
       "      <td>2.463778</td>\n",
       "      <td>62.482724</td>\n",
       "      <td>62.486506</td>\n",
       "      <td>3.400568</td>\n",
       "      <td>6.658026</td>\n",
       "      <td>1.634233</td>\n",
       "      <td>1.0</td>\n",
       "      <td>2.960582</td>\n",
       "    </tr>\n",
       "    <tr>\n",
       "      <th>2020-04-13</th>\n",
       "      <td>1.000000</td>\n",
       "      <td>1.000000</td>\n",
       "      <td>0.040013</td>\n",
       "      <td>1.000000</td>\n",
       "      <td>0.322557</td>\n",
       "      <td>1996.307112</td>\n",
       "      <td>121843.280532</td>\n",
       "      <td>1912.396911</td>\n",
       "      <td>1914.547414</td>\n",
       "      <td>2.459770</td>\n",
       "      <td>62.463696</td>\n",
       "      <td>62.465876</td>\n",
       "      <td>3.418822</td>\n",
       "      <td>6.672055</td>\n",
       "      <td>1.642960</td>\n",
       "      <td>1.0</td>\n",
       "      <td>2.958693</td>\n",
       "    </tr>\n",
       "  </tbody>\n",
       "</table>\n",
       "</div>"
      ],
      "text/plain": [
       "            is_new_project  reserved  price_change  is_auction  nr_stars  \\\n",
       "log_date                                                                   \n",
       "2020-04-09        0.068239  0.016792      0.039741    0.023580  0.440157   \n",
       "2020-04-10        0.069414  0.016269      0.040334    0.024223  0.438539   \n",
       "2020-04-11        0.065789  0.016003      0.039469    0.021693  0.390825   \n",
       "2020-04-12        0.067116  0.015980      0.039712    0.021662  0.348722   \n",
       "2020-04-13        1.000000  1.000000      0.040013    1.000000  0.322557   \n",
       "\n",
       "                   year    total_price   price_sq_m  rounded_price_sq_m  \\\n",
       "log_date                                                                  \n",
       "2020-04-09  1996.252233  122150.586995  1911.601286         1913.504823   \n",
       "2020-04-10  1996.203181  121593.971800  1909.622560         1911.641359   \n",
       "2020-04-11  1996.438122  122126.564367  1913.283428         1915.291607   \n",
       "2020-04-12  1996.610440  122044.691761  1913.732244         1915.838068   \n",
       "2020-04-13  1996.307112  121843.280532  1912.396911         1914.547414   \n",
       "\n",
       "            nr_rooms  space_sq_m  rounded_space_sq_m     floor  nr_floors  \\\n",
       "log_date                                                                    \n",
       "2020-04-09  2.467310   62.572008           62.574848  3.389425   6.643087   \n",
       "2020-04-10  2.461678   62.394624           62.398771  3.392986   6.654736   \n",
       "2020-04-11  2.466572   62.544733           62.548720  3.403627   6.656117   \n",
       "2020-04-12  2.463778   62.482724           62.486506  3.400568   6.658026   \n",
       "2020-04-13  2.459770   62.463696           62.465876  3.418822   6.672055   \n",
       "\n",
       "               state  type  size_bucket  \n",
       "log_date                                 \n",
       "2020-04-09  1.635584   1.0     2.964987  \n",
       "2020-04-10  1.626537   1.0     2.954447  \n",
       "2020-04-11  1.636913   1.0     2.964794  \n",
       "2020-04-12  1.634233   1.0     2.960582  \n",
       "2020-04-13  1.642960   1.0     2.958693  "
      ]
     },
     "execution_count": 183,
     "metadata": {},
     "output_type": "execute_result"
    }
   ],
   "source": [
    "#date calculations\n",
    "period = data_1.groupby('log_date').aggregate(np.mean)\n",
    "period.head(5)"
   ]
  },
  {
   "cell_type": "code",
   "execution_count": null,
   "metadata": {},
   "outputs": [],
   "source": [
    "\n",
    "# # district buckets:\n",
    "# first_tier =['Senamiestis','Žvėrynas','Užupis', 'Filaretai']\n",
    "# second_tier = ['Valakampiai','Naujamiestis', 'Šnipiškės','Turniškės']\n",
    "# third_tier = ['Antakalnis', 'Šiaurės miestelis','Žirmūnai', 'Burbiškės', 'Visoriai',\n",
    "#             'Avižienių k.', 'Tarandės k.', 'Verkiai','Markučiai','Santariškės', 'Saulėtekis']\n",
    "# fourth_tier = ['Klevinės vs.','Baltupiai','Bajorai','Lazdynėliai','Pilaitė',\n",
    "# 'Šeškinė','Viršuliškės','Jeruzalė','Vilkpėdė','Liepkalnis','Karoliniškės','Pašilaičiai','Rasos',\n",
    "# 'Lazdynai','Dvarčionys','Avižieniai','Justiniškės','Bendorių k.','Kalnėnai','Fabijoniškės',\n",
    "# 'Bukiškio k.','Tarandė','Skaidiškės','Bukčiai','Balsiai','Naujininkai']\n",
    "\n",
    "# def define_district_bucket(df2):\n",
    "#   if df2['district'] in first_tier:\n",
    "#     return 1\n",
    "#   elif df2['district'] in second_tier:\n",
    "#     return 2\n",
    "#   elif df2['district'] in third_tier:\n",
    "#     return 3\n",
    "#   elif df2['district'] in fourth_tier:\n",
    "#     return 4\n",
    "#   else:\n",
    "#     return 5\n",
    "\n",
    "# df2['size_bucket'] =  \n",
    "# \t\t,CASE\tWHEN a.space_sq_m < 30  THEN 1\n",
    "# \t\t\t\tWHEN a.space_sq_m >= 30 and a.space_sq_m < 50 THEN 2\n",
    "# \t\t\t\tWHEN a.space_sq_m >= 50 and a.space_sq_m < 70 THEN 3\n",
    "# \t\t\t\tWHEN a.space_sq_m >= 70 and a.space_sq_m < 90 THEN 4\n",
    "# \t\t\t\tELSE 5\n",
    "# \t\t\t\tEND AS [size_bucket]\n",
    "                \n",
    "#    if col[:2]=='01':\n",
    "#         df.rename(columns={col:'Gold' + col[4:]}, inplace=True)\n",
    "#     if col[:2]=='02':\n",
    "#         df.rename(columns={col:'Silver' + col[4:]}, inplace=True)\n",
    "#     if col[:2]=='03':\n",
    "#         df.rename(columns={col:'Bronze' + col[4:]}, inplace=True)\n",
    "#     if col[:1]=='№':\n",
    "#         df.rename(columns={col:'#' + col[1:]}, inplace=True) \n",
    "                "
   ]
  }
 ],
 "metadata": {
  "kernelspec": {
   "display_name": "Python 3",
   "language": "python",
   "name": "python3"
  },
  "language_info": {
   "codemirror_mode": {
    "name": "ipython",
    "version": 3
   },
   "file_extension": ".py",
   "mimetype": "text/x-python",
   "name": "python",
   "nbconvert_exporter": "python",
   "pygments_lexer": "ipython3",
   "version": "3.7.3"
  }
 },
 "nbformat": 4,
 "nbformat_minor": 2
}
