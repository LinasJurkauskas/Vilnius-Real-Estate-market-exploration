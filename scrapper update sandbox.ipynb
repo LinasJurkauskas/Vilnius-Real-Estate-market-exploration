{
 "cells": [
  {
   "cell_type": "code",
   "execution_count": 164,
   "metadata": {},
   "outputs": [],
   "source": [
    "test_sample = [[],['2', '', '', 'Lazdynėliai', 'Jonažolių g.', \n",
    "                   'Prieš 4 d.', '400 € 10,00 €/m²', '2 40 5/9', 'Įsiminti']]\n",
    "               #['2', '', '', 'Senamiestis', 'Kauno g.', 'Prieš 1 mėn.', 'Kaina sumažėjusi 3,8%', '500 € 10,42 €/m²', '2 48 3/6', 'Įsiminti'], ['1', '', '', 'Jeruzalė', 'Mokyklos g.', 'Prieš 1 d.', '340 € 9,44 €/m²', '1 36 3/6', 'Įsiminti'], ['1', '', '', 'Žirmūnai', 'Kareivių g.', 'Prieš 1 d.', '250 € 12,50 €/m²', '1 20 2/2', 'Įsiminti'], ['1', '', '', 'Pašilaičiai', 'Pavilnionių g.', 'Prieš 2 d.', '480 € 7,06 €/m²', '3 68 2/2', 'Įsiminti'], ['1', '', '', 'Fabijoniškės', 'Fabijoniškių g.', 'Prieš 3 d.', '580 € 10,72 €/m²', '3 54.09 8/9', 'Įsiminti'], ['1', '', '', 'Žvėrynas', 'Stirnų g.', 'Prieš 3 d.', '800 € 13,33 €/m²', '3 60 6/6', 'Įsiminti'], ['1', '', '', 'Užupis', 'Polocko g.', 'Prieš 4 d.', '800 € 15,38 €/m²', '2 52 2/3', 'Įsiminti'], ['1', '', '', 'Šnipiškės', 'Žalgirio g.', 'Prieš 7 d.', '400 € 12,50 €/m²', '1 32 4/6', 'Įsiminti'], ['1', '', '', 'Naujoji Vilnia', 'Genių g.', 'Prieš 7 d.', '350 € 8,97 €/m²', '2 39 2/4', 'Įsiminti'], ['1', '', '', 'Naujamiestis', 'Eglių g.', 'Prieš 8 d.', '650 € 12,13 €/m²', '2 53.57 1/5', 'Įsiminti'], ['1', '', '', 'Žirmūnai', 'Jurgio Lebedžio g.', 'Prieš 10 d.', 'Kaina padidėjusi 0,2%', '520 € 11,60 €/m²', '2 44.81 4/5', 'Įsiminti'], ['1', '', '', 'Užupis', 'Kreivasis skg.', 'Prieš 13 d.', '650 € 11,61 €/m²', '3 56 1/4', 'Įsiminti'], ['1', '', '', 'Žirmūnai', 'Kareivių g.', 'Prieš 18 d.', '200 € 10,00 €/m²', '1 20 1/5', 'Įsiminti'], ['1', '', '', 'Užupis', 'Polocko g.', 'Prieš 5 d.', '650 € 17,57 €/m²', '2 37 2/3', 'Įsiminti'], [''], ['1', '', '', 'Užupis', 'Malūnų g.', 'Prieš 22 d.', 'Kaina padidėjusi 18,8%', '950 € 17,27 €/m²', '2 55 1/4', 'Įsiminti'], ['1', '', '', 'Šiaurės miestelis', 'Kareivių g.', \n",
    "# 'Prieš 23 d.', '150 € 7,50 €/m²', '1 20 2/2', 'Įsiminti'], ['1', '', '', 'Visoriai', 'Prano Vaičaičio g.', 'Prieš 28 d.', '500 € 10,00 €/m²', '2 50 1/2', 'Įsiminti'], ['1', '', \n",
    "# '', 'Žirmūnai', 'Tuskulėnų g.', 'Prieš 15 d.', 'Kaina sumažėjusi 2%', '490 € 11,95 €/m²', '2 41 2/9', 'Įsiminti'], ['1', '', '', 'Senamiestis', 'Olimpiečių g.', 'Prieš 1 mėn.', \n",
    "# 'Kaina sumažėjusi 5,6%', '850 € 12,88 €/m²', '3 66 3/4', 'Įsiminti']]\n",
    "#[''], ['1', '', '', 'Senamiestis', 'Mindaugo g.', 'Prieš 1 mėn.', 'Kaina sumažėjusi 7,8%', '470 € 15,67 €/m²', '1 30 2/7', 'Įsiminti'], ['1', '', '', 'Jeruzalė', 'Mokyklos g.', 'Prieš 1 mėn.', '400 € 6,90 €/m²', '2 58 2/6', 'Įsiminti'], ['1', '', '', 'Naujamiestis', 'Mindaugo g.', 'Prieš 18 d.', '500 € 20,83 €/m²', '1 24 2/6', 'Įsiminti'], ['1', '', '', 'Lazdynėliai', 'Jonažolių g.', 'Prieš 1 d.', '420 € 8,75 €/m²', '2 48 3/6', 'Įsiminti'], ['Rezervuota', '1', '', '', 'Antakalnis', 'Nemenčinės pl.', 'Prieš 1 mėn.', '770 € 12,19 €/m²', '3 63.16 2/7', 'Įsiminti'], [''], ['1', '', '', 'Užupis', 'Polocko g.', 'Prieš 2 mėn.', 'Kaina sumažėjusi 14,1%', '850 € 16,46 €/m²', '2 51.63 1/3', 'Įsiminti'], ['1', '', '', 'Užupis', 'Polocko g.', 'Prieš 2 mėn.', 'Kaina sumažėjusi 14,1%', '850 € 14,38 €/m²', '2 59.11 1/3', 'Įsiminti'], ['1', '', '', 'Senamiestis', 'Subačiaus g.', 'Prieš 1 mėn.', '750 € 12,93 €/m²', '2 58 1/4', 'Įsiminti'], ['1', '', '', 'Naujamiestis', 'J. Jasinskio g.', 'Prieš 11 d.', '670 € 16,34 €/m²', '1 41 6/6', 'Įsiminti'], ['1', '', '', 'Užupis', 'Manufaktūrų g.', 'Prieš 1 mėn.', '450 € 15,00 €/m²', '1 30 3/4', 'Įsiminti'], ['Naujamiestis', 'J. Basanavičiaus g.', 'Prieš 1 d.', '530 € 12,62 €/m²', '2 42 1/4', 'Įsiminti'], ['Kiti šio arba itin panašaus objekto skelbimai (1)'], ['Senamiestis', 'J. Basanavičiaus g.', 'Prieš 1 d.', '530 € 12,62 €/m²', '2 42 1/4', 'Įsiminti'], ['Naujamiestis', 'T. Ševčenkos g.', 'Prieš 1 d.', '399 € 9,73 €/m²', '1 41 2/7', 'Įsiminti'], ['Šiaurės miestelis', 'Kazio Ulvydo g.', 'Prieš 2 d.', '350 € 10,29 €/m²', '1 34 2/5', 'Įsiminti'], ['Šnipiškės', 'Piromonto g.', 'Prieš 2 d.', '345 € 11,90 €/m²', '1 29 8/9', 'Įsiminti'], ['Žirmūnai', 'M. Katkaus g.', 'Prieš 3 d.', '390 € 13,45 €/m²', '1 29 4/9', 'Įsiminti'], ['Senamiestis', 'Pylimo g.', 'Prieš 3 d.', '560 € 14,00 €/m²', '2 40 3/3', 'Įsiminti'], ['Šnipiškės', 'Jurgio Lebedžio g.', 'Prieš 4 d.', '500 € 11,54 €/m²', '2 43.32 5/5', 'Įsiminti'], ['Kiti šio arba itin panašaus objekto skelbimai (1)'], ['1', '', '', 'Žirmūnai', 'Jurgio Lebedžio g.', 'Prieš 10 d.', 'Kaina padidėjusi 0,2%', '520 € 11,60 €/m²', '2 44.81 4/5', 'Įsiminti'], ['Žirmūnai', 'Rinktinės g.', 'Prieš 4 d.', '550 € 10,58 €/m²', '2 52 2/5', 'Įsiminti'], ['Kiti šio arba itin panašaus objekto skelbimai (1)'], ['Žirmūnai', 'Trimitų g.', 'Prieš 1 mėn.', 'Kaina sumažėjusi 8,3%', '550 € 10,58 €/m²', '2 52 2/5', 'Įsiminti'], ['Naujamiestis', 'Savanorių pr.', 'Prieš 10 d.', '450 € 12,16 €/m²', '2 37 2/9', 'Įsiminti'], ['Senamiestis', 'Mindaugo g.', 'Prieš 13 d.', '2 000 € 19,05 €/m²', '3 105 4/4', 'Įsiminti'], [''], ['Užupis', 'Polocko g.', 'Prieš 13 d.', '700 € 12,73 €/m²', '2 55 2/3', 'Įsiminti'], ['Senamiestis', 'Gedimino pr.', 'Prieš 13 d.', '900 € 18,00 €/m²', '2 50 3/5', 'Įsiminti'], ['Naujamiestis', 'Žemaitės g.', 'Prieš 15 d.', '549 € 9,98 €/m²', '3 55 5/9', 'Įsiminti'], ['Justiniškės', 'Laisvės pr.', 'Prieš 15 d.', '330 € 8,25 €/m²', '1 40 1/6', 'Įsiminti'], ['Saulėtekis', 'Birutės Marijos Gimbutienės g.', 'Prieš 16 d.', '250 € 12,50 €/m²', '1 20 2/2', 'Įsiminti'], ['Kiti šio arba itin panašaus objekto skelbimai (2)'], ['Saulėtekis', 'Žirgo Sodų 3-ioji g.', 'Prieš 5 d.', '250 € 12,50 €/m²', '1 20 1/2', 'Įsiminti'], ['Saulėtekis', 'Žirgo Sodų 3-ioji g.', 'Prieš 2 mėn.', '250 € 12,50 €/m²', '1 20 1/2', 'Įsiminti'], [''], ['Senamiestis', 'J. Jasinskio g.', 'Prieš 16 d.', '520 € 13,00 €/m²', '2 40 3/6', 'Įsiminti'], ['Naujamiestis', 'Kauno g.', 'Prieš 17 d.', '390 € 9,75 €/m²', '2 40 3/4', 'Įsiminti'], ['Užupis', 'Užupio g.', 'Prieš 18 d.', '500 € 10,64 €/m²', '2 47 2/3', 'Įsiminti'], ['Kiti šio arba itin panašaus objekto skelbimai (1)'], ['Užupis', 'Užupio g.', 'Prieš 26 d.', 'Kaina sumažėjusi 16,7%', '500 € 10,64 €/m²', '2 47 2/3', 'Įsiminti'], ['Žvėrynas', 'Blindžių g.', 'Prieš 18 d.', '1 200 € 11,32 €/m²', '3 106 2/4', 'Įsiminti'], ['Senamiestis', 'Olimpiečių g.', 'Prieš 29 d.', '750 € 11,29 €/m²', '3 66.41 1/4', 'Įsiminti'], [''], ['Naujamiestis', 'Žemaitės g.', 'Prieš 29 d.', '400 € 13,10 €/m²', '1 30.54 4/9', 'Įsiminti'], ['Kiti šio arba itin panašaus objekto skelbimai (1)'], ['Naujamiestis', 'Žemaitės g.', 'Prieš 9 d.', '399 € 13,30 €/m²', '1 30 4/9', 'Įsiminti'], ['Senamiestis', 'Subačiaus g.', 'Prieš 1 mėn.', 'Kaina sumažėjusi 6,3%', '750 € 13,64 €/m²', '2 55 1/4', 'Įsiminti'], ['Senamiestis', 'Olimpiečių g.', 'Prieš 1 mėn.', '1 600 € 19,28 €/m²', '3 83 4/4', 'Įsiminti'], ['Fabijoniškės', 'Ateities g.', 'Prieš 1 mėn.', '634 € 9,62 €/m²', '3 65.89 3/6', 'Įsiminti'], ['Fabijoniškės', 'Ateities g.', 'Prieš 1 mėn.', '513 € 9,81 €/m²', '2 52.28 3/6', 'Įsiminti'], ['Senamiestis', 'Subačiaus g.', 'Prieš 1 mėn.', '750 € 12,93 €/m²', '2 58 1/4', 'Įsiminti'], ['Kiti šio arba itin panašaus objekto skelbimai (1)'], ['1', '', '', 'Senamiestis', 'Subačiaus g.', 'Prieš 1 mėn.', '750 € 12,93 €/m²', '2 58 1/4', 'Įsiminti'], ['Šnipiškės', 'Linkmenų g.', 'Prieš 1 mėn.', 'Kaina padidėjusi 2,4%', '420 € 12,35 €/m²', '1 34 2/5', 'Įsiminti'], ['Kiti šio arba itin panašaus objekto skelbimai (1)'], ['Šnipiškės', 'Linkmenų g.', 'Prieš 1 mėn.', '420 € 12,35 €/m²', '1 34 2/5', 'Įsiminti'], ['Senamiestis', 'Subačiaus g.', 'Prieš 1 mėn.', 'Kaina padidėjusi 16,7%', '700 € 12,96 €/m²', '2 54 1/3', 'Įsiminti'], ['Fabijoniškės', 'Ateities g.', 'Prieš 1 mėn.', '844 € 9,17 €/m²', '3 92 6/6', 'Įsiminti'], ['Naujamiestis', 'Kauno g.', 'Prieš 1 mėn.', 'Kaina sumažėjusi 1,7%', '590 € 10,17 €/m²', '2 58 4/7', 'Įsiminti'], ['Rezervuota', 'Užupis', 'Polocko g.', 'Prieš 2 mėn.', 'Kaina sumažėjusi 7,1%', '1 300 € 15,29 €/m²', '3 85 1/3', 'Įsiminti'], ['Žirmūnai', 'Verkių g.', 'Prieš 2 mėn.', 'Kaina sumažėjusi 4,3%', '440 € 12,57 €/m²', '2 35 2/7', 'Įsiminti'], ['Šnipiškės', 'Olimpiečių g.', 'Prieš 2 mėn.', '650 € 15,32 €/m²', '2 42.43 4/4', 'Įsiminti'], ['Kiti šio arba itin panašaus objekto skelbimai (3)'], ['Senamiestis', 'Olimpiečių g.', 'Prieš 2 mėn.', '650 € 15,29 €/m²', '2 42.5 4/4', 'Įsiminti'], ['Šnipiškės', 'Olimpiečių g.', 'Prieš 2 mėn.', '650 € 15,29 €/m²', '2 42.5 4/4', 'Įsiminti'], ['Senamiestis', 'Olimpiečių g.', 'Prieš 2 mėn.', '650 € 15,32 €/m²', '2 42.43 4/4', 'Įsiminti'], ['Užupis', 'Peteliškių g.', 'Prieš 4 mėn.', 'Kaina sumažėjusi 8,3%', '1 100 € 12,04 €/m²', '4 91.34 3/5', 'Įsiminti'], ['Senamiestis', 'Malūnų g.', 'Prieš 8 mėn.', '900 € 16,07 €/m²', '2 56 2/3', 'Įsiminti'], ['Kiti šio arba itin panašaus objekto skelbimai (1)'], ['1', '', '', 'Užupis', 'Malūnų g.', 'Prieš 22 d.', 'Kaina padidėjusi 18,8%', '950 € 17,27 €/m²', '2 55 1/4', 'Įsiminti'], [''], ['Užupis', 'Malūnų g.', 'Prieš 8 mėn.', '850 € 18,09 €/m²', '2 47 1/3', 'Įsiminti'], ['Naujamiestis', 'Kauno g.', 'Prieš 1 Metus', 'Kaina padidėjusi 9,1%', '600 € 8,96 €/m²', '3 67 1/6', 'Įsiminti']][['0', '0', '0', '2', '', '', 'Lazdynėliai', 'Jonažolių g.', '0', 'Prieš 4 d.', '400 € 10,00 €/m²', '2 40 5/9', 'Įsiminti', '', 1, '2020-05-16'], ['0', '0', '0', '2', '', '', 'Senamiestis', 'Kauno g.', '0', 'Prieš 1 mėn.', 'Kaina sumažėjusi 3,8%', '500 € 10,42 €/m²', '2 48 3/6', 'Įsiminti', 2, '2020-05-16'], ['0', '0', '0', '1', '', '', 'Jeruzalė', 'Mokyklos g.', '0', 'Prieš 1 d.', '340 € 9,44 €/m²', '1 36 3/6', 'Įsiminti', '', 3, '2020-05-16'], ['0', '0', '0', '1', '', '', 'Žirmūnai', 'Kareivių g.', '0', 'Prieš 1 d.', '250 € 12,50 €/m²', '1 20 2/2', 'Įsiminti', '', 4, '2020-05-16'], ['0', '0', '0', '1', '', '', 'Pašilaičiai', 'Pavilnionių g.', '0', 'Prieš 2 d.', '480 € 7,06 €/m²', '3 68 2/2', 'Įsiminti', '', 5, '2020-05-16'], ['0', '0', '0', '1', '', '', 'Fabijoniškės', 'Fabijoniškių g.', '0', 'Prieš 3 d.', '580 € 10,72 €/m²', '3 54.09 8/9', 'Įsiminti', '', 6, '2020-05-16'], ['0', '0', '0', '1', '', '', 'Žvėrynas', 'Stirnų g.', '0', 'Prieš 3 d.', '800 € 13,33 €/m²', '3 60 6/6', 'Įsiminti', '', 7, '2020-05-16'], ['0', '0', '0', '1', '', '', 'Užupis', 'Polocko g.', '0', 'Prieš 4 d.', '800 € 15,38 €/m²', '2 52 2/3', 'Įsiminti', '', 8, '2020-05-16'], ['0', '0', '0', '1', '', '', 'Šnipiškės', 'Žalgirio g.', '0', 'Prieš 7 d.', '400 € 12,50 €/m²', '1 32 4/6', 'Įsiminti', '', 9, '2020-05-16'], ['0', '0', '0', '1', '', '', 'Naujoji Vilnia', 'Genių g.', '0', 'Prieš 7 d.', '350 € 8,97 €/m²', '2 39 2/4', 'Įsiminti', '', 10, '2020-05-16'], ['0', '0', '0', '1', '', '', 'Naujamiestis', 'Eglių g.', '0', 'Prieš 8 d.', '650 € 12,13 €/m²', '2 53.57 1/5', 'Įsiminti', '', 11, '2020-05-16'], ['0', '0', '0', '1', '', '', 'Žirmūnai', 'Jurgio Lebedžio g.', '0', 'Prieš 10 d.', 'Kaina padidėjusi 0,2%', '520 € 11,60 €/m²', '2 44.81 4/5', 'Įsiminti', 12, '2020-05-16'], ['0', '0', '0', '1', '', '', 'Užupis', 'Kreivasis skg.', '0', 'Prieš 13 d.', '650 € 11,61 €/m²', '3 56 1/4', 'Įsiminti', '', 13, '2020-05-16'], ['0', '0', '0', '1', '', '', 'Žirmūnai', 'Kareivių g.', '0', 'Prieš 18 d.', '200 € 10,00 €/m²', '1 20 1/5', 'Įsiminti', '', 14, '2020-05-16'], ['0', '0', '0', '1', '', '', 'Užupis', 'Polocko g.', '0', 'Prieš 5 d.', '650 € 17,57 €/m²', '2 37 2/3', 'Įsiminti', '', 15, '2020-05-16'], ['0', '0', '0', '1', '', '', 'Užupis', 'Malūnų g.', '0', 'Prieš 22 d.', 'Kaina padidėjusi 18,8%', '950 € 17,27 €/m²', '2 55 1/4', 'Įsiminti', 16, '2020-05-16'], ['0', '0', '0', '1', '', '', 'Šiaurės miestelis', 'Kareivių g.', '0', 'Prieš 23 d.', '150 € 7,50 €/m²', '1 20 2/2', 'Įsiminti', '', 17, '2020-05-16'], ['0', '0', '0', '1', '', '', 'Visoriai', 'Prano Vaičaičio g.', '0', 'Prieš 28 d.', '500 € 10,00 €/m²', '2 50 1/2', 'Įsiminti', '', 18, '2020-05-16'], ['0', '0', '0', '1', '', '', 'Žirmūnai', 'Tuskulėnų g.', '0', 'Prieš 15 d.', 'Kaina sumažėjusi 2%', '490 € 11,95 €/m²', '2 41 2/9', 'Įsiminti', 19, '2020-05-16'], ['0', '0', '0', '1', '', '', 'Senamiestis', 'Olimpiečių g.', '0', 'Prieš 1 mėn.', 'Kaina sumažėjusi 5,6%', '850 € 12,88 €/m²', '3 66 3/4', 'Įsiminti', 20, '2020-05-16'], ['0', '0', '0', \n",
    "# '1', '', '', 'Senamiestis', 'Mindaugo g.', '0', 'Prieš 1 mėn.', 'Kaina sumažėjusi 7,8%', '470 € 15,67 €/m²', '1 30 2/7', 'Įsiminti', 21, '2020-05-16'], ['0', '0', '0', '1', '', \n",
    "# '', 'Jeruzalė', 'Mokyklos g.', '0', 'Prieš 1 mėn.', '400 € 6,90 €/m²', '2 58 2/6', 'Įsiminti', '', 22, '2020-05-16'], ['0', '0', '0', '1', '', '', 'Naujamiestis', 'Mindaugo g.', '0', 'Prieš 18 d.', '500 € 20,83 €/m²', '1 24 2/6', 'Įsiminti', '', 23, '2020-05-16'], ['0', '0', '0', '1', '', '', 'Lazdynėliai', 'Jonažolių g.', '0', 'Prieš 1 d.', '420 € 8,75 €/m²', '2 48 3/6', 'Įsiminti', '', 24, '2020-05-16'], ['1', '0', '0', '1', '', '', 'Antakalnis', 'Nemenčinės pl.', '0', 'Prieš 1 mėn.', '770 € 12,19 €/m²', '3 63.16 2/7', 'Įsiminti', '', 25, '2020-05-16'], ['0', '0', '0', '1', '', '', 'Užupis', 'Polocko g.', '0', 'Prieš 2 mėn.', 'Kaina sumažėjusi 14,1%', '850 € 16,46 €/m²', '2 51.63 1/3', 'Įsiminti', 26, '2020-05-16'], ['0', '0', '0', '1', '', '', 'Užupis', 'Polocko g.', '0', 'Prieš 2 mėn.', 'Kaina sumažėjusi 14,1%', '850 € 14,38 €/m²', '2 59.11 1/3', 'Įsiminti', 27, '2020-05-16'], ['0', '0', '0', '1', '', '', 'Senamiestis', 'Subačiaus g.', '0', 'Prieš 1 mėn.', '750 € 12,93 €/m²', '2 58 1/4', 'Įsiminti', '', 28, '2020-05-16'], ['0', '0', '0', '1', '', '', 'Naujamiestis', 'J. Jasinskio g.', '0', 'Prieš 11 d.', '670 € 16,34 €/m²', '1 41 6/6', 'Įsiminti', '', 29, '2020-05-16'], ['0', '0', '0', '1', '', '', 'Užupis', 'Manufaktūrų g.', '0', 'Prieš 1 mėn.', '450 € 15,00 €/m²', '1 30 3/4', 'Įsiminti', '', 30, '2020-05-16'], ['0', '0', '0', 0, '', '', 'Naujamiestis', 'J. Basanavičiaus g.', '0', 'Prieš 1 d.', '530 € 12,62 €/m²', '2 42 1/4', 'Įsiminti', '', 31, '2020-05-16'], ['0', '0', '0', 0, '', '', 'Senamiestis', 'J. Basanavičiaus g.', '0', 'Prieš 1 d.', '530 € 12,62 €/m²', '2 42 1/4', 'Įsiminti', '', 32, '2020-05-16'], ['0', '0', '0', 0, '', '', 'Naujamiestis', 'T. Ševčenkos g.', '0', 'Prieš 1 d.', '399 € 9,73 €/m²', '1 41 2/7', 'Įsiminti', '', 33, '2020-05-16'], ['0', '0', '0', 0, '', '', 'Šiaurės miestelis', 'Kazio Ulvydo g.', '0', 'Prieš 2 d.', '350 € 10,29 €/m²', '1 34 2/5', 'Įsiminti', '', 34, '2020-05-16'], ['0', \n",
    "# '0', '0', 0, '', '', 'Šnipiškės', 'Piromonto g.', '0', 'Prieš 2 d.', '345 € 11,90 €/m²', '1 29 8/9', 'Įsiminti', '', 35, '2020-05-16'], ['0', '0', '0', 0, '', '', 'Žirmūnai', 'M. Katkaus g.', '0', 'Prieš 3 d.', '390 € 13,45 €/m²', '1 29 4/9', 'Įsiminti', '', 36, '2020-05-16'], ['0', '0', '0', 0, '', '', 'Senamiestis', 'Pylimo g.', '0', 'Prieš 3 d.', '560 € 14,00 €/m²', '2 40 3/3', 'Įsiminti', '', 37, '2020-05-16'], ['0', '0', '0', 0, '', '', 'Šnipiškės', 'Jurgio Lebedžio g.', '0', 'Prieš 4 d.', '500 € 11,54 €/m²', '2 43.32 5/5', 'Įsiminti', '', 38, '2020-05-16'], ['0', '0', '0', '1', '', '', 'Žirmūnai', 'Jurgio Lebedžio g.', '0', 'Prieš 10 d.', 'Kaina padidėjusi 0,2%', '520 € 11,60 €/m²', '2 44.81 4/5', 'Įsiminti', 39, '2020-05-16'], ['0', '0', '0', 0, '', '', 'Žirmūnai', 'Rinktinės g.', '0', 'Prieš 4 d.', '550 € 10,58 €/m²', '2 52 2/5', 'Įsiminti', '', 40, '2020-05-16'], \n",
    "# ['0', '0', '0', 0, '', '', 'Žirmūnai', 'Trimitų g.', '0', 'Prieš 1 mėn.', 'Kaina sumažėjusi 8,3%', '550 € 10,58 €/m²', '2 52 2/5', 'Įsiminti', 41, '2020-05-16'], ['0', '0', '0', 0, '', '', 'Naujamiestis', 'Savanorių pr.', '0', 'Prieš 10 d.', '450 € 12,16 €/m²', '2 37 2/9', 'Įsiminti', '', 42, '2020-05-16'], ['0', '0', '0', 0, '', '', 'Senamiestis', 'Mindaugo g.', '0', 'Prieš 13 d.', '2 000 € 19,05 €/m²', '3 105 4/4', 'Įsiminti', '', 43, '2020-05-16'], ['0', '0', '0', 0, '', '', 'Užupis', 'Polocko g.', '0', 'Prieš 13 d.', '700 € 12,73 €/m²', '2 55 2/3', 'Įsiminti', '', 44, '2020-05-16'], ['0', '0', '0', 0, '', '', 'Senamiestis', 'Gedimino pr.', '0', 'Prieš 13 d.', '900 € 18,00 €/m²', '2 50 3/5', 'Įsiminti', '', 45, '2020-05-16'], ['0', '0', '0', 0, '', '', 'Naujamiestis', 'Žemaitės g.', '0', 'Prieš 15 d.', '549 € 9,98 €/m²', '3 55 5/9', 'Įsiminti', '', 46, '2020-05-16'], ['0', '0', '0', 0, '', '', 'Justiniškės', 'Laisvės pr.', '0', 'Prieš 15 d.', '330 € 8,25 €/m²', '1 40 1/6', 'Įsiminti', '', 47, '2020-05-16'], ['0', '0', '0', 0, '', '', 'Saulėtekis', 'Birutės Marijos Gimbutienės g.', '0', 'Prieš 16 d.', '250 € 12,50 €/m²', '1 20 2/2', 'Įsiminti', '', 48, '2020-05-16'], ['0', '0', '0', 0, '', '', 'Saulėtekis', 'Žirgo Sodų 3-ioji g.', '0', 'Prieš 5 d.', '250 € 12,50 €/m²', '1 20 1/2', 'Įsiminti', '', 49, '2020-05-16'], ['0', '0', '0', 0, '', '', 'Saulėtekis', 'Žirgo Sodų 3-ioji g.', '0', 'Prieš 2 mėn.', '250 € 12,50 €/m²', '1 20 1/2', 'Įsiminti', '', 50, '2020-05-16'], ['0', '0', '0', 0, '', '', 'Senamiestis', 'J. Jasinskio g.', '0', 'Prieš 16 d.', '520 € 13,00 €/m²', \n",
    "# '2 40 3/6', 'Įsiminti', '', 51, '2020-05-16'], ['0', '0', '0', 0, '', '', 'Naujamiestis', 'Kauno g.', '0', 'Prieš 17 d.', '390 € 9,75 €/m²', '2 40 3/4', 'Įsiminti', '', 52, '2020-05-16'], ['0', '0', '0', 0, '', '', 'Užupis', 'Užupio g.', '0', 'Prieš 18 d.', '500 € 10,64 €/m²', '2 47 2/3', 'Įsiminti', '', 53, '2020-05-16'], ['0', '0', '0', 0, '', '', 'Užupis', 'Užupio g.', '0', 'Prieš 26 d.', 'Kaina sumažėjusi 16,7%', '500 € 10,64 €/m²', '2 47 2/3', 'Įsiminti', 54, '2020-05-16'], ['0', '0', '0', 0, '', '', 'Žvėrynas', 'Blindžių g.', '0', 'Prieš 18 d.', '1 200 € 11,32 €/m²', '3 106 2/4', 'Įsiminti', '', 55, '2020-05-16'], ['0', '0', '0', 0, '', '', 'Senamiestis', 'Olimpiečių g.', '0', 'Prieš 29 d.', '750 € 11,29 €/m²', '3 66.41 1/4', 'Įsiminti', '', 56, '2020-05-16'], ['0', '0', '0', 0, '', '', 'Naujamiestis', 'Žemaitės g.', '0', 'Prieš 29 d.', '400 € 13,10 €/m²', '1 30.54 4/9', 'Įsiminti', '', 57, '2020-05-16'], ['0', '0', '0', 0, '', '', 'Naujamiestis', 'Žemaitės g.', '0', 'Prieš 9 d.', '399 € 13,30 €/m²', '1 30 4/9', 'Įsiminti', '', 58, '2020-05-16'], ['0', '0', '0', 0, '', '', 'Senamiestis', 'Subačiaus g.', '0', 'Prieš 1 mėn.', 'Kaina sumažėjusi 6,3%', '750 € 13,64 €/m²', '2 55 1/4', 'Įsiminti', 59, '2020-05-16'], ['0', '0', '0', 0, '', '', 'Senamiestis', 'Olimpiečių g.', '0', 'Prieš 1 mėn.', '1 600 € 19,28 €/m²', '3 83 4/4', 'Įsiminti', '', 60, '2020-05-16'], ['0', '0', '0', 0, '', '', 'Fabijoniškės', 'Ateities g.', '0', 'Prieš 1 mėn.', '634 € 9,62 €/m²', '3 65.89 3/6', 'Įsiminti', '', 61, '2020-05-16'], ['0', '0', '0', 0, '', '', 'Fabijoniškės', 'Ateities g.', '0', 'Prieš 1 mėn.', '513 € 9,81 €/m²', '2 52.28 3/6', 'Įsiminti', '', 62, '2020-05-16'], ['0', '0', '0', 0, '', '', 'Senamiestis', 'Subačiaus g.', '0', 'Prieš 1 mėn.', '750 € 12,93 €/m²', '2 58 1/4', 'Įsiminti', '', 63, '2020-05-16'], ['0', '0', '0', '1', '', '', 'Senamiestis', 'Subačiaus g.', '0', 'Prieš 1 mėn.', '750 € 12,93 €/m²', '2 58 1/4', 'Įsiminti', '', 64, '2020-05-16'], ['0', '0', '0', 0, '', '', 'Šnipiškės', 'Linkmenų g.', '0', 'Prieš 1 mėn.', 'Kaina padidėjusi 2,4%', '420 € 12,35 €/m²', '1 34 2/5', 'Įsiminti', 65, \n",
    "# '2020-05-16'], ['0', '0', '0', 0, '', '', 'Šnipiškės', 'Linkmenų g.', '0', 'Prieš 1 mėn.', '420 € 12,35 €/m²', '1 34 2/5', 'Įsiminti', '', 66, '2020-05-16'], ['0', '0', '0', 0, \n",
    "# '', '', 'Senamiestis', 'Subačiaus g.', '0', 'Prieš 1 mėn.', 'Kaina padidėjusi 16,7%', '700 € 12,96 €/m²', '2 54 1/3', 'Įsiminti', 67, '2020-05-16'], ['0', '0', '0', 0, '', '', 'Fabijoniškės', 'Ateities g.', '0', 'Prieš 1 mėn.', '844 € 9,17 €/m²', '3 92 6/6', 'Įsiminti', '', 68, '2020-05-16'], ['0', '0', '0', 0, '', '', 'Naujamiestis', 'Kauno g.', '0', \n",
    "# 'Prieš 1 mėn.', 'Kaina sumažėjusi 1,7%', '590 € 10,17 €/m²', '2 58 4/7', 'Įsiminti', 69, '2020-05-16'], ['1', '0', '0', 0, '', '', 'Užupis', 'Polocko g.', '0', 'Prieš 2 mėn.', 'Kaina sumažėjusi 7,1%', '1 300 € 15,29 €/m²', '3 85 1/3', 'Įsiminti', 70, '2020-05-16'], ['0', '0', '0', 0, '', '', 'Žirmūnai', 'Verkių g.', '0', 'Prieš 2 mėn.', 'Kaina sumažėjusi 4,3%', '440 € 12,57 €/m²', '2 35 2/7', 'Įsiminti', 71, '2020-05-16'], ['0', '0', '0', 0, '', '', 'Šnipiškės', 'Olimpiečių g.', '0', 'Prieš 2 mėn.', '650 € 15,32 €/m²', '2 42.43 4/4', 'Įsiminti', '', 72, '2020-05-16'], ['0', '0', '0', 0, '', '', 'Senamiestis', 'Olimpiečių g.', '0', 'Prieš 2 mėn.', '650 € 15,29 €/m²', '2 42.5 4/4', 'Įsiminti', '', 73, '2020-05-16'], ['0', '0', '0', 0, '', '', 'Šnipiškės', 'Olimpiečių g.', '0', 'Prieš 2 mėn.', '650 € 15,29 €/m²', '2 42.5 4/4', 'Įsiminti', '', 74, '2020-05-16'], ['0', '0', '0', 0, '', '', 'Senamiestis', 'Olimpiečių g.', '0', 'Prieš 2 mėn.', '650 € 15,32 €/m²', '2 42.43 4/4', 'Įsiminti', '', 75, '2020-05-16'], ['0', '0', '0', 0, '', '', 'Užupis', 'Peteliškių g.', '0', 'Prieš 4 mėn.', 'Kaina sumažėjusi 8,3%', '1 100 € 12,04 €/m²', '4 91.34 3/5', 'Įsiminti', 76, '2020-05-16'], ['0', '0', '0', 0, '', '', 'Senamiestis', 'Malūnų g.', '0', 'Prieš 8 mėn.', '900 € 16,07 €/m²', '2 56 2/3', 'Įsiminti', '', 77, '2020-05-16'], ['0', '0', '0', '1', '', '', 'Užupis', 'Malūnų g.', '0', 'Prieš 22 d.', 'Kaina padidėjusi 18,8%', '950 € 17,27 €/m²', '2 55 1/4', 'Įsiminti', 78, '2020-05-16'], ['0', '0', '0', 0, '', '', 'Užupis', 'Malūnų g.', '0', 'Prieš 8 mėn.', '850 € 18,09 €/m²', '2 47 1/3', 'Įsiminti', '', 79, '2020-05-16'], ['0', '0', '0', 0, '', '', 'Naujamiestis', 'Kauno g.', '0', 'Prieš 1 Metus', 'Kaina padidėjusi 9,1%', '600 € 8,96 €/m²', '3 67 1/6', 'Įsiminti', 80, '2020-05-16']]"
   ]
  },
  {
   "cell_type": "code",
   "execution_count": 148,
   "metadata": {},
   "outputs": [
    {
     "data": {
      "text/plain": [
       "list"
      ]
     },
     "execution_count": 148,
     "metadata": {},
     "output_type": "execute_result"
    }
   ],
   "source": [
    "test_sample = [['2', '', '', 'Lazdynėliai', 'Jonažolių g.',\n",
    "            'Prieš 4 d.', '400 € 10,00 €/m²', '2 40 5/9', 'Įsiminti']]\n",
    "type(test_sample)"
   ]
  },
  {
   "cell_type": "code",
   "execution_count": 165,
   "metadata": {},
   "outputs": [],
   "source": [
    "import time\n",
    "from datetime import date\n",
    "import copy\n",
    "\n",
    "def FormatData( data_list, type):\n",
    "        dl = data_list[:]\n",
    "        print(dl)\n",
    "        try:\n",
    "            import_date = str(date.today())\n",
    "            #remove dummy rows\n",
    "            index = 0\n",
    "            for item_list in dl:\n",
    "                if len(item_list) < 4:\n",
    "                    dl.pop(index)\n",
    "                index += 1\n",
    "#             print('dummy removal rows failed')\n",
    "#             print(item_list)\n",
    "#         try:\n",
    "            #add first column to where it is missing:\n",
    "            for item_list in dl:\n",
    "                if item_list[0] != \"Rezervuota\":\n",
    "                    item_list.insert(0, \"0\")\n",
    "                else:\n",
    "                    item_list[0] = \"1\"\n",
    "#         except:\n",
    "#             print('reserved column failed')\n",
    "#             print(item_list)\n",
    "            \n",
    "            #Varžytynės\n",
    "#        try:\n",
    "            for item_list in dl:\n",
    "                if  \"Varžytynės\" not in item_list[1]:\n",
    "                    item_list.insert(1,\"0\")\n",
    "                else:\n",
    "                    item_list[1] = \"1\" \n",
    "#         except:\n",
    "#             print('auction column failed')\n",
    "#             print(item_list)\n",
    "#         try:\n",
    "            #add rezervuota column to where there is no price change\n",
    "            for item_list in dl:\n",
    "                if \"Naujas projektas\" not in item_list[2]:\n",
    "                    item_list.insert(2,\"0\")\n",
    "                else:\n",
    "                    item_list[2] = \"1\"\n",
    "#         except:\n",
    "#             print('reserved column failed')\n",
    "#             print(item_list)\n",
    "#         try:\n",
    "            #check if nr_stars exists:\n",
    "            for item_list in dl:\n",
    "                if item_list[3].isdigit() == False:\n",
    "                    item_list.insert(3,0)\n",
    "#         except:\n",
    "#             print('nr_stars column failed')\n",
    "#             print(item_list)\n",
    "#         try:\n",
    "            #add two unknown columns\n",
    "            for item_list in dl:\n",
    "                if item_list[4] != \"\":\n",
    "                    item_list.insert(4,\"\")\n",
    "\n",
    "            for item_list in dl:\n",
    "                if item_list[5] != \"\":\n",
    "                    item_list.insert(5,\"\")\n",
    "#         except:\n",
    "#             print('two unknown columns failed')\n",
    "#             print(item_list)\n",
    "#         try:\n",
    "            #if street does not exist add blank one\n",
    "            for item_list in dl:\n",
    "                if item_list[7][0].isdigit() == True:\n",
    "                    item_list.insert(7,\"no street\")\n",
    "#         except:\n",
    "#             print('unknown street add')\n",
    "#             print(item_list)\n",
    "            #add price change column to where there is no price change\n",
    "            for item_list in dl:\n",
    "                if \"Kaina\" not in item_list[8]:\n",
    "                    item_list.insert(8,\"0\")\n",
    "            #print(item_list)\n",
    "\n",
    "            # add two last columns if they are missing:\n",
    "            for item_list in dl:\n",
    "                if len(item_list) <14:\n",
    "                    item_list.append('')\n",
    "\n",
    "            for item_list in dl:\n",
    "                if len(item_list) <14:\n",
    "                    item_list.append('')\n",
    "            id = 1\n",
    "            for item_list in dl:\n",
    "                item_list.append(id)\n",
    "                item_list.append(import_date)\n",
    "                id += 1\n",
    "\n",
    "            for item_list in dl:\n",
    "                #price columns\n",
    "                letter_index = 0\n",
    "                while letter_index < len(item_list[9]):\n",
    "                    if item_list[9][letter_index] == \"€\":\n",
    "                        object_price = item_list[9][:letter_index].replace(\" \",\"\")\n",
    "                        object_sqm_price = item_list[9][letter_index:].replace(\"€/m²\",\"\")\n",
    "                        object_sqm_price = object_sqm_price.replace(\"€\",\"\")\n",
    "                        object_sqm_price = object_sqm_price.replace(\" \",\"\")\n",
    "                        break   \n",
    "                    letter_index += 1\n",
    "                item_list.append(object_price)\n",
    "                item_list.append(object_sqm_price)\n",
    "\n",
    "            if type == \"butai\" or type == \"butu-nuoma\":\n",
    "            #building space columns\n",
    "                for item_list in dl:      \n",
    "                    space_split = item_list[10].split()\n",
    "                    item_list.append(space_split[0])\n",
    "                    item_list.append(space_split[1])\n",
    "                    item_list.append(space_split[2])\n",
    "            else:\n",
    "                for item_list in dl:  \n",
    "                    item_list.append(0)\n",
    "                    space_split = item_list[10].split()\n",
    "                    item_list.append(space_split[0])\n",
    "                    item_list.append(0)\n",
    "\n",
    "\n",
    "            #floor_split\n",
    "            if type == \"butai\":\n",
    "                for item_list in dl:\n",
    "                    space_split = item_list[20].split(\"/\")\n",
    "                    item_list.append(space_split[0])\n",
    "                    item_list.append(space_split[1])\n",
    "            else:\n",
    "                for item_list in dl:\n",
    "                    item_list.append(0)\n",
    "                    item_list.append(0)\n",
    " \n",
    "            for item_list in dl:\n",
    "                item_list.append(item_list[12]+\" \"+item_list[13])\n",
    "                print(item_list)\n",
    "            return dl            \n",
    "        except:\n",
    "           print('error found:')\n",
    "        \n"
   ]
  },
  {
   "cell_type": "code",
   "execution_count": 167,
   "metadata": {},
   "outputs": [
    {
     "name": "stdout",
     "output_type": "stream",
     "text": [
      "[['0', '0', '0', '0', '', '', '0', 'no street', '0', '0', '7', '', '', 'Saulėtekis', 'Plytinės g.', 'Kaina sumažėjusi 2%', '147 000 € 1 771 €/m²', '3 83 4/5', 'Įsiminti', 1, '2020-05-16'], ['0', '0', '0', '0', '', '', '0', 'no street', '0', '0', '3', '', '', 'Žvėrynas', 'Latvių g.', '560 000 € 5 773 €/m²', '3 97 3/4', 'Įsiminti', 2, '2020-05-16'], ['0', '0', '0', '0', '', '', '0', 'no street', '0', '0', '2', '', '', 'Šiaurės miestelis', 'S. Žukausko g.', '164 000 € 2 080 €/m²', '3 78.86 6/6', 'Įsiminti', 3, '2020-05-16'], ['0', '0', '0', '0', '', '', '0', 'no street', '0', '0', '1', '', '', 'Šiaurės miestelis', 'S. Žukausko g.', '149 700 € 2 275 €/m²', '3 65.81 4/7', 'Įsiminti', 4, '2020-05-16'], ['0', '0', '0', '0', '', '', '0', 'no street', '0', '0', '1', '', '', 'Pilaitė', 'Karaliaučiaus g.', '79 999 € 1 818 €/m²', '2 44 4/5', 'Įsiminti', 5, '2020-05-16'], ['0', '0', '0', '0', '', '', '0', 'no street', '0', '0', '1', '', '', 'Lazdynai', 'Erfurto g.', 'Kaina sumažėjusi 13%', '107 000 € 1 604 €/m²', '2 66.72 2/4', 'Įsiminti', 6, '2020-05-16'], ['0', '0', '0', '0', '', '', '0', 'no street', '0', '0', '1', '', '', 'Žirmūnai', 'Minties g.', '123 000 € 2 050 €/m²', '3 60 2/16', 'Įsiminti', 7, '2020-05-16'], ['0', '0', '0', '0', '', '', '0', 'no street', '0', '0', '1', '', '', 'Fabijoniškės', 'Salomėjos Nėries g.', '78 000 € 1 477 €/m²', '2 52.8 2/10', 'Įsiminti', 8, '2020-05-16'], ['0', '0', '0', '0', '', '', '0', 'no street', '0', '0', '1', '', '', 'Šiaurės miestelis', 'S. Žukausko g.', '299 999 € 2 609 €/m²', '3 115 7/10', 'Įsiminti', 9, '2020-05-16'], ['0', '0', '0', '0', '', '', '0', 'no street', '0', '0', 0, '', '', 'Fabijoniškės', 'Salomėjos Nėries g.', '78 000 € 1 472 €/m²', '2 53 2/10', 'Įsiminti', 10, '2020-05-16'], ['Kiti šio arba itin panašaus objekto skelbimai (1)'], ['0', '0', '0', '0', '', '', '0', 'no street', '0', '0', '1', '', '', 'Fabijoniškės', 'Salomėjos Nėries g.', '78 000 € 1 477 €/m²', '2 52.8 2/10', 'Įsiminti', 11, '2020-05-16'], ['0', '0', '0', '0', '', '', '0', 'no street', '0', '0', 0, '', '', 'Justiniškės', 'Taikos g.', '106 950 € 1 313 €/m²', '3 81.44 1/6', 'Įsiminti', 12, '2020-05-16'], ['0', '0', '0', '0', '', '', '0', 'no street', '0', '0', 0, '', '', 'Šiaurės miestelis', 'Kazimiero Ladygos g.', '103 000 € 1 907 €/m²', '2 54 2/9', 'Įsiminti', 13, '2020-05-16'], ['0', '0', '0', '0', '', '', '0', 'no street', '0', '0', 0, '', '', 'Šiaurės miestelis', 'S. Žukausko g.', '110 000 € 1 854 €/m²', '2 59.32 7/9', 'Įsiminti', 14, '2020-05-16'], ['0', '0', '0', '0', '', '', '0', 'no street', '0', '0', 0, '', '', 'Pašilaičiai', 'Ukmergės g.', '129 500 € 1 698 €/m²', '3 76.28 4/9', 'Įsiminti', 15, '2020-05-16'], ['0', '0', '0', '0', '', '', '0', 'no street', '0', '0', 0, '', '', 'Fabijoniškės', 'Salomėjos Nėries g.', 'Kaina sumažėjusi 0,1%', '81 900 € 1 445 €/m²', '2 56.68 8/9', 'Įsiminti', 16, '2020-05-16'], [''], ['0', '0', '0', '0', '', '', '0', 'no street', '0', '0', 0, '', '', 'Pašilaičiai', 'Ukmergės g.', '121 000 € 1 514 €/m²', '3 79.93 8/8', 'Įsiminti', 17, '2020-05-16'], ['Kiti šio arba itin panašaus objekto skelbimai (1)'], ['0', '0', '0', '0', '', '', '0', 'no street', '0', '0', 0, '', '', 'Pašilaičiai', 'Ukmergės g.', '121 000 € 1 514 €/m²', '3 79.93 8/8', 'Įsiminti', 18, '2020-05-16'], ['0', '0', '0', '0', '', '', '0', 'no street', '0', '0', 0, '', '', 'Šnipiškės', 'A. Juozapavičiaus g.', '270 000 € 2 943 €/m²', '3 91.74 5/12', 'Įsiminti', 19, '2020-05-16'], ['0', '0', '0', '0', '', '', '0', 'no street', '0', '0', 0, '', '', 'Šnipiškės', 'Konstitucijos pr.', '144 900 € 2 415 €/m²', '2 60 3/8', 'Įsiminti', 20, '2020-05-16'], ['0', '0', '0', '0', '', '', '0', 'no street', '0', '0', 0, '', '', 'Šiaurės miestelis', 'S. Žukausko g.', '115 000 € 1 500 €/m²', '3 76.69 2/8', 'Įsiminti', 21, '2020-05-16'], ['0', '0', '0', '0', '', '', '0', 'no street', '0', '0', 0, '', '', 'Karoliniškės', 'Sausio 13-osios g.', '439 000 € 1 412 €/m²', '6 311 1/2', 'Įsiminti', 22, '2020-05-16'], [''], ['0', '0', '0', '0', '', '', '0', 'no street', '0', '0', 0, '', '', 'Senamiestis', 'A. Juozapavičiaus g.', '215 000 € 3 308 €/m²', '2 65 6/7', 'Įsiminti', 23, '2020-05-16'], ['Kiti šio arba itin panašaus objekto skelbimai (1)'], ['0', '0', '0', '0', '', '', '0', 'no street', '0', '0', '1', '', '', 'Šnipiškės', 'A. Juozapavičiaus g.', '215 000 € 3 308 €/m²', '2 65 6/7', 'Įsiminti', 24, '2020-05-16'], ['0', '0', '0', '0', '', '', '0', 'no street', '0', '0', 0, '', '', 'Šnipiškės', 'Kalvarijų g.', '250 000 € 2 252 €/m²', '5 111 5/5', 'Įsiminti', 25, '2020-05-16'], ['0', '0', '0', '0', '', '', '0', 'no street', '0', '0', 0, '', '', 'Žvėrynas', 'Latvių g.', '285 000 € 4 655 €/m²', '2 61.23 4/4', 'Įsiminti', 26, '2020-05-16'], ['0', '0', '0', '0', '', '', '0', 'no street', '0', '0', 0, '', '', 'Naujamiestis', 'M. K. Čiurlionio g.', '144 000 € 2 214 €/m²', '3 65.05 1/1', 'Įsiminti', 27, '2020-05-16'], ['0', '0', '0', '0', '', '', '0', 'no street', '0', '0', 0, '', '', 'Lazdynėliai', 'Lazdynėlių g.', '89 000 € 1 745 €/m²', '2 51 1/5', 'Įsiminti', 28, '2020-05-16'], ['0', '0', '0', '0', '', '', '0', 'no street', '0', '0', 0, '', '', 'Antakalnis', 'L. Sapiegos g.', '220 000 € 1 835 €/m²', '3 119.91 1/5', 'Įsiminti', 29, '2020-05-16'], ['0', '0', '0', '0', '', '', '0', 'no street', '0', '0', 0, '', '', 'Baltupiai', 'Kalvarijų g.', '249 500 € 2 916 €/m²', '2 85.56 14/14', 'Įsiminti', 30, '2020-05-16'], ['']]\n",
      "error found:\n"
     ]
    }
   ],
   "source": [
    "FormatData( sell_list, \"butai\")"
   ]
  },
  {
   "cell_type": "code",
   "execution_count": 168,
   "metadata": {},
   "outputs": [],
   "source": [
    "sell_list = [['7', '', '', 'Saulėtekis', 'Plytinės g.',\n",
    "  'Kaina sumažėjusi 2%', '147 000 € 1 771 €/m²', '3 83 4/5', 'Įsiminti']]\n"
   ]
  },
  {
   "cell_type": "code",
   "execution_count": null,
   "metadata": {},
   "outputs": [],
   "source": [
    "rent_list = [['4', '', '', 'Šiaurės miestelis', 'V. Nagevičiaus g.', 'Prieš 1 mėn.',\n",
    "             'Kaina sumažėjusi 8,2%', '450 € 8,33 €/m²', '3 54 1/5', 'Įsiminti']]"
   ]
  }
 ],
 "metadata": {
  "kernelspec": {
   "display_name": "Python 3",
   "language": "python",
   "name": "python3"
  },
  "language_info": {
   "codemirror_mode": {
    "name": "ipython",
    "version": 3
   },
   "file_extension": ".py",
   "mimetype": "text/x-python",
   "name": "python",
   "nbconvert_exporter": "python",
   "pygments_lexer": "ipython3",
   "version": "3.7.3"
  }
 },
 "nbformat": 4,
 "nbformat_minor": 2
}
